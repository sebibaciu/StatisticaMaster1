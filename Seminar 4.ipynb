{
 "cells": [
  {
   "cell_type": "markdown",
   "id": "361a0b28-a247-4abc-8577-e96323c99fa0",
   "metadata": {},
   "source": [
    "# Seminar 4"
   ]
  },
  {
   "cell_type": "markdown",
   "id": "bd6d1b8e-9a48-443a-9b20-f84ad7e71093",
   "metadata": {},
   "source": [
    "Se arunca moneda de $n=10, 20, 300$ de ori. Sa se calculeze probabilitatea ca stema sa apara de $k=5, 14, 145$ de ori.\n"
   ]
  },
  {
   "cell_type": "code",
   "execution_count": 43,
   "id": "e6b3476c-b8e8-43d6-b937-fdd31685c297",
   "metadata": {},
   "outputs": [],
   "source": [
    "import numpy as np\n",
    "from scipy.special import comb"
   ]
  },
  {
   "cell_type": "markdown",
   "id": "ab920dca-8294-4c94-8e5c-d3a80ed69a99",
   "metadata": {},
   "source": [
    "## Varianta 1"
   ]
  },
  {
   "cell_type": "code",
   "execution_count": 16,
   "id": "a128964c-7e37-4d36-b5ef-7e833bbdb01b",
   "metadata": {},
   "outputs": [],
   "source": [
    "def moneda():\n",
    "    if np.random.rand()>0.5:\n",
    "        return 1 \n",
    "    else:\n",
    "        return 0 "
   ]
  },
  {
   "cell_type": "code",
   "execution_count": 17,
   "id": "68aeb609-84f3-4e89-a05a-61912ea48842",
   "metadata": {},
   "outputs": [
    {
     "data": {
      "text/plain": [
       "1"
      ]
     },
     "execution_count": 17,
     "metadata": {},
     "output_type": "execute_result"
    }
   ],
   "source": [
    "moneda()\n"
   ]
  },
  {
   "cell_type": "code",
   "execution_count": 19,
   "id": "6321ad8f-a5e2-495c-95d6-e9b5722011ef",
   "metadata": {},
   "outputs": [],
   "source": [
    "def moneda():\n",
    "    return 1 if np.random.rand()>0.5 else 0"
   ]
  },
  {
   "cell_type": "code",
   "execution_count": 20,
   "id": "92c8c5f2-ba2c-40f8-85ea-195522f2bcde",
   "metadata": {},
   "outputs": [],
   "source": [
    "dictionar={0: 'M', 1: 'S'}"
   ]
  },
  {
   "cell_type": "code",
   "execution_count": 21,
   "id": "a706218a-835c-4aff-944e-95eb89639933",
   "metadata": {},
   "outputs": [
    {
     "data": {
      "text/plain": [
       "'S'"
      ]
     },
     "execution_count": 21,
     "metadata": {},
     "output_type": "execute_result"
    }
   ],
   "source": [
    "dictionar[moneda()]"
   ]
  },
  {
   "cell_type": "code",
   "execution_count": 24,
   "id": "31f7323e-7f05-4f76-8378-aef0c94d7f60",
   "metadata": {},
   "outputs": [
    {
     "name": "stdout",
     "output_type": "stream",
     "text": [
      "2\n"
     ]
    }
   ],
   "source": [
    "n=10\n",
    "stema=0\n",
    "for i in range(n):\n",
    "    if moneda():\n",
    "        stema+=1\n",
    "print(stema)"
   ]
  },
  {
   "cell_type": "code",
   "execution_count": 25,
   "id": "f0d37df7-cd72-4afa-842d-6c23ac95fb51",
   "metadata": {},
   "outputs": [
    {
     "name": "stdout",
     "output_type": "stream",
     "text": [
      "6\n"
     ]
    }
   ],
   "source": [
    "n=10\n",
    "stema=0\n",
    "for i in range(n):\n",
    "    stema+=moneda()\n",
    "print(stema)"
   ]
  },
  {
   "cell_type": "code",
   "execution_count": 27,
   "id": "fcff9626-500a-4c69-ba0e-aff44a88cd88",
   "metadata": {},
   "outputs": [],
   "source": [
    "def moneda_repetata(n):\n",
    "    stema=0\n",
    "    for i in range(n):\n",
    "      stema+=moneda()\n",
    "    return stema/n"
   ]
  },
  {
   "cell_type": "code",
   "execution_count": 32,
   "id": "9a462874-e23d-447a-a3af-53ffd12b3d9d",
   "metadata": {},
   "outputs": [
    {
     "data": {
      "text/plain": [
       "0.6"
      ]
     },
     "execution_count": 32,
     "metadata": {},
     "output_type": "execute_result"
    }
   ],
   "source": [
    "moneda_repetata(10)"
   ]
  },
  {
   "cell_type": "code",
   "execution_count": 33,
   "id": "4bc8d9ce-8d76-46a8-ae00-a2f577d8cb04",
   "metadata": {},
   "outputs": [],
   "source": [
    "def moneda_repetata_k(n,k):\n",
    "    stema=0\n",
    "    for i in range(n):\n",
    "      stema+=moneda()\n",
    "    return 1 if stema==k else 0"
   ]
  },
  {
   "cell_type": "code",
   "execution_count": 37,
   "id": "1434c2ef-2a80-428b-9bec-846557304c30",
   "metadata": {},
   "outputs": [
    {
     "data": {
      "text/plain": [
       "1"
      ]
     },
     "execution_count": 37,
     "metadata": {},
     "output_type": "execute_result"
    }
   ],
   "source": [
    "moneda_repetata_k(10,5)"
   ]
  },
  {
   "cell_type": "code",
   "execution_count": 42,
   "id": "6c3a8cc5-c003-44c1-a35f-8b54776356ca",
   "metadata": {},
   "outputs": [
    {
     "name": "stdout",
     "output_type": "stream",
     "text": [
      "0.3\n"
     ]
    }
   ],
   "source": [
    "nr_repetitii=10\n",
    "nr_reusite=0\n",
    "n-10\n",
    "k=5\n",
    "for repetari in range(nr_repetitii):\n",
    "    nr_reusite+=moneda_repetata_k(n,k)\n",
    "print(nr_reusite/nr_repetitii)"
   ]
  },
  {
   "cell_type": "markdown",
   "id": "8f4836ce-3d3d-4349-b677-2efda221ee18",
   "metadata": {},
   "source": [
    "Probabilitatea teoterica: $P(X_n^k)=C_n^k p^k q^{n-k}$ (schema binomiala)"
   ]
  },
  {
   "cell_type": "code",
   "execution_count": 95,
   "id": "f367658d-5db3-404e-a608-9cfbda7306ae",
   "metadata": {},
   "outputs": [],
   "source": [
    "def probabilitate_teoretica_moneda(p,n,k):\n",
    "    return comb(n,k)*p**k*(1-p)**(n-k)"
   ]
  },
  {
   "cell_type": "code",
   "execution_count": 89,
   "id": "72a81515-8ccb-4eab-bd55-9c05984e2f61",
   "metadata": {},
   "outputs": [
    {
     "data": {
      "text/plain": [
       "0.24609375"
      ]
     },
     "execution_count": 89,
     "metadata": {},
     "output_type": "execute_result"
    }
   ],
   "source": [
    "probabilitate_teoretica_moneda(0.5, 10, 5)"
   ]
  },
  {
   "cell_type": "code",
   "execution_count": 98,
   "id": "49fd22a4-388e-43b1-ae6e-2a965873b1cd",
   "metadata": {
    "tags": []
   },
   "outputs": [
    {
     "name": "stdout",
     "output_type": "stream",
     "text": [
      "n=10, k=5, teoretic: 0.24609375, simulare: 0.0\n",
      "n=20, k=14, teoretic: 0.03696441650390625, simulare: 0.0\n",
      "n=300, k=145, teoretic: 0.038981861224294305, simulare: 0.0\n"
     ]
    }
   ],
   "source": [
    "N=[10,20,300]\n",
    "K=[5,14,145]\n",
    "nr_repetitii=2\n",
    "for n,k in zip(N,K):\n",
    "    nr_reusite=0\n",
    "    for repetari in range(nr_repetitii):\n",
    "        nr_reusite+=moneda_repetata_k(n,k)\n",
    "    print(f'n={n}, k={k}, teoretic: {probabilitate_teoretica_moneda(0.5, n,k)}, simulare: {nr_reusite/nr_repetitii}')"
   ]
  },
  {
   "cell_type": "markdown",
   "id": "0aa23e70-2c81-411d-a7a8-92ed1c90671f",
   "metadata": {},
   "source": [
    "## Varianta 2"
   ]
  },
  {
   "cell_type": "code",
   "execution_count": 97,
   "id": "15606766-949e-4924-9023-0df56d26dbc1",
   "metadata": {},
   "outputs": [],
   "source": [
    "n=10\n",
    "k=5"
   ]
  },
  {
   "cell_type": "code",
   "execution_count": 86,
   "id": "0c220af5-8acc-411d-862d-00bb710bea4c",
   "metadata": {},
   "outputs": [],
   "source": [
    "nr_repetitii=2000\n",
    "monede=np.random.rand(nr_repetitii,n)"
   ]
  },
  {
   "cell_type": "code",
   "execution_count": 69,
   "id": "94b5f239-def2-4076-933d-3b9b9e93848f",
   "metadata": {},
   "outputs": [],
   "source": [
    "steme = monede>0.5"
   ]
  },
  {
   "cell_type": "code",
   "execution_count": 70,
   "id": "0ac9d57f-f5c6-4cdf-8641-c9971b9fbd19",
   "metadata": {},
   "outputs": [],
   "source": [
    "cate_steme= np.sum(steme, axis=1)"
   ]
  },
  {
   "cell_type": "code",
   "execution_count": 71,
   "id": "88716199-b2be-46e6-a9bd-4b249490c4c1",
   "metadata": {},
   "outputs": [
    {
     "data": {
      "text/plain": [
       "array([7, 5, 3, ..., 6, 5, 7])"
      ]
     },
     "execution_count": 71,
     "metadata": {},
     "output_type": "execute_result"
    }
   ],
   "source": [
    "cate_steme"
   ]
  },
  {
   "cell_type": "code",
   "execution_count": 72,
   "id": "3229f281-ad45-4e74-b0aa-24011780b564",
   "metadata": {},
   "outputs": [],
   "source": [
    "numar = np.sum(cate_steme==k)"
   ]
  },
  {
   "cell_type": "code",
   "execution_count": 73,
   "id": "9e7982cf-e647-4e15-bc1e-7be7da3eb698",
   "metadata": {},
   "outputs": [
    {
     "data": {
      "text/plain": [
       "490"
      ]
     },
     "execution_count": 73,
     "metadata": {},
     "output_type": "execute_result"
    }
   ],
   "source": [
    "numar"
   ]
  },
  {
   "cell_type": "code",
   "execution_count": 74,
   "id": "5b168f2a-48ad-470e-8d73-b94c86428624",
   "metadata": {},
   "outputs": [
    {
     "data": {
      "text/plain": [
       "0.245"
      ]
     },
     "execution_count": 74,
     "metadata": {},
     "output_type": "execute_result"
    }
   ],
   "source": [
    "numar/nr_repetitii"
   ]
  },
  {
   "cell_type": "code",
   "execution_count": 100,
   "id": "97f83647-9db8-482a-ba45-1ea2054b915d",
   "metadata": {},
   "outputs": [
    {
     "name": "stdout",
     "output_type": "stream",
     "text": [
      "n=10, k=5, teoretic: 0.24609375, simulare: 0.2615\n",
      "n=20, k=14, teoretic: 0.03696441650390625, simulare: 0.0325\n",
      "n=300, k=145, teoretic: 0.038981861224294305, simulare: 0.0335\n"
     ]
    }
   ],
   "source": [
    "N=[10,20,300]\n",
    "K=[5,14,145]\n",
    "nr_repetitii=2000\n",
    "for n,k in zip(N,K):\n",
    "    monede=np.random.rand(nr_repetitii,n)\n",
    "    steme = monede>0.5\n",
    "    cate_steme= np.sum(steme, axis=1)\n",
    "    numar = np.sum(cate_steme==k)\n",
    "    print(f'n={n}, k={k}, teoretic: {probabilitate_teoretica_moneda(0.5, n,k)}, simulare: {numar/nr_repetitii}')"
   ]
  },
  {
   "cell_type": "code",
   "execution_count": 101,
   "id": "7380aefb-054d-4777-b52e-44dab540d9fa",
   "metadata": {},
   "outputs": [
    {
     "name": "stdout",
     "output_type": "stream",
     "text": [
      "n=10, k=5, teoretic: 0.24609375, simulare: 0.235\n",
      "n=20, k=14, teoretic: 0.03696441650390625, simulare: 0.0345\n",
      "n=300, k=145, teoretic: 0.038981861224294305, simulare: 0.037\n"
     ]
    }
   ],
   "source": [
    "N=[10,20,300]\n",
    "K=[5,14,145]\n",
    "nr_repetitii=2000\n",
    "for n,k in zip(N,K):\n",
    "    numar = np.sum(np.sum(np.random.rand(nr_repetitii,n)>0.5, axis=1)==k)\n",
    "    print(f'n={n}, k={k}, teoretic: {probabilitate_teoretica_moneda(0.5, n,k)}, simulare: {numar/nr_repetitii}')"
   ]
  },
  {
   "cell_type": "markdown",
   "id": "76fdb25a-2325-4efb-b85c-c6df6f61a46c",
   "metadata": {},
   "source": [
    "## Tema"
   ]
  },
  {
   "cell_type": "markdown",
   "id": "4cee740c-2f9f-496a-bc8b-664881678d3b",
   "metadata": {},
   "source": [
    "Se arunca un zar de 3 ori.\n",
    "\n",
    "1.Care e probabilitatea ca suma fetelor sa fie 15?\n",
    "2.Care e probabilitatea ca suma fetelor sa fie cel putin 15?\n"
   ]
  },
  {
   "cell_type": "code",
   "execution_count": 27,
   "id": "7a696e21-b9af-451a-9a25-a0f76dd6534d",
   "metadata": {},
   "outputs": [],
   "source": [
    "#1\n",
    "nr_posibil = 6**3"
   ]
  },
  {
   "cell_type": "code",
   "execution_count": 28,
   "id": "5ec9c053-208c-4cbe-adab-e8ebc4701290",
   "metadata": {},
   "outputs": [],
   "source": [
    "cazuri_favorabile = 10 \n",
    "# 6 6 3, 6 5 4, 6 4 5, 6 3 6, 5 6 4, 5 5 5, 5 4 6, 4 6 5, 4 5 6, 3 6 6"
   ]
  },
  {
   "cell_type": "code",
   "execution_count": 32,
   "id": "a9080ee1-004b-4725-b468-cc600ba709bd",
   "metadata": {},
   "outputs": [],
   "source": [
    "suma15 = cazuri_favorabile/nr_posibil"
   ]
  },
  {
   "cell_type": "code",
   "execution_count": 33,
   "id": "a0045a55-0101-46f2-b6a0-bf8201c19fa7",
   "metadata": {},
   "outputs": [
    {
     "data": {
      "text/plain": [
       "0.046296296296296294"
      ]
     },
     "execution_count": 33,
     "metadata": {},
     "output_type": "execute_result"
    }
   ],
   "source": [
    "suma15"
   ]
  },
  {
   "cell_type": "code",
   "execution_count": 34,
   "id": "c5e4c048-5b6f-4b35-a224-0b0f2e9619f7",
   "metadata": {},
   "outputs": [],
   "source": [
    "#2\n",
    "cazuri_favorabile = 20\n",
    "# 6 6 4, 6 5 5, 6 4 6, 6 6 5, 6 5 6, 6 6 6, 5 6 5, 5 6 6, 5 5 6, 4 6 6, 6 6 3,6 5 4, 6 4 5, 6 3 6, 5 64, 5 5 5. 5 4 6, 4 6 5, 4 5 6, 3 6 6 =20"
   ]
  },
  {
   "cell_type": "code",
   "execution_count": null,
   "id": "17af6607-3aa8-4427-b33d-f10f43151fbc",
   "metadata": {},
   "outputs": [],
   "source": []
  }
 ],
 "metadata": {
  "kernelspec": {
   "display_name": "Python 3 (ipykernel)",
   "language": "python",
   "name": "python3"
  },
  "language_info": {
   "codemirror_mode": {
    "name": "ipython",
    "version": 3
   },
   "file_extension": ".py",
   "mimetype": "text/x-python",
   "name": "python",
   "nbconvert_exporter": "python",
   "pygments_lexer": "ipython3",
   "version": "3.9.13"
  }
 },
 "nbformat": 4,
 "nbformat_minor": 5
}
