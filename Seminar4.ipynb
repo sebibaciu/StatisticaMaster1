{
 "cells": [
  {
   "cell_type": "markdown",
   "id": "fdfa6d55-afdc-4d38-a6ec-ec8f91a485a0",
   "metadata": {},
   "source": [
    "# Seminar 4"
   ]
  },
  {
   "cell_type": "markdown",
   "id": "7c499016-efdc-4bc2-9359-18f84cc85bea",
   "metadata": {},
   "source": [
    "Se arunca o moneda de $n=10, 20, 300$ de ori. Sa se calculeze probabilitatea ca stema sa apara de $k=5, 14, 145$ de ori."
   ]
  },
  {
   "cell_type": "code",
   "execution_count": 111,
   "id": "6ff3f905-b931-400d-95b9-384433cb7f25",
   "metadata": {},
   "outputs": [],
   "source": [
    "import numpy as np\n",
    "from scipy.special import comb"
   ]
  },
  {
   "cell_type": "markdown",
   "id": "9b4515bb-6f93-4ebe-92b4-85388e21af21",
   "metadata": {},
   "source": [
    "## varianta 1"
   ]
  },
  {
   "cell_type": "code",
   "execution_count": 8,
   "id": "f85fb509-6684-4bb2-adbd-abedff8f861c",
   "metadata": {},
   "outputs": [],
   "source": [
    "def moneda():\n",
    "    if np.random.rand()>0.5:\n",
    "        return 1 # 1=Stema\n",
    "    else:\n",
    "        return 0 # 0 - marca"
   ]
  },
  {
   "cell_type": "code",
   "execution_count": 12,
   "id": "ee64d79e-29fb-40d6-bcc4-3103fcd5e003",
   "metadata": {},
   "outputs": [
    {
     "data": {
      "text/plain": [
       "1"
      ]
     },
     "execution_count": 12,
     "metadata": {},
     "output_type": "execute_result"
    }
   ],
   "source": [
    "moneda()"
   ]
  },
  {
   "cell_type": "code",
   "execution_count": 13,
   "id": "1439f467-6575-4fff-8d0e-7b5468aa1a15",
   "metadata": {},
   "outputs": [],
   "source": [
    "def moneda():\n",
    "    return 1 if np.random.rand()>0.5 else 0"
   ]
  },
  {
   "cell_type": "code",
   "execution_count": 14,
   "id": "9da6b815-4a4f-48e9-9b0b-ff792f1638c3",
   "metadata": {},
   "outputs": [],
   "source": [
    "dictionar={0: 'M', 1:'S'}"
   ]
  },
  {
   "cell_type": "code",
   "execution_count": 16,
   "id": "b31d61e9-dca2-42ba-b984-adf25546939e",
   "metadata": {},
   "outputs": [
    {
     "data": {
      "text/plain": [
       "'S'"
      ]
     },
     "execution_count": 16,
     "metadata": {},
     "output_type": "execute_result"
    }
   ],
   "source": [
    "dictionar[moneda()]"
   ]
  },
  {
   "cell_type": "code",
   "execution_count": 20,
   "id": "012b823b-7e44-407e-b574-30e1f67a2d52",
   "metadata": {},
   "outputs": [
    {
     "name": "stdout",
     "output_type": "stream",
     "text": [
      "5\n"
     ]
    }
   ],
   "source": [
    "n=10\n",
    "stema=0\n",
    "for i in range(n):\n",
    "    stema+= moneda()\n",
    "print(stema)"
   ]
  },
  {
   "cell_type": "code",
   "execution_count": 21,
   "id": "bc3cb8ec-7c8b-4a20-ac65-9171d650f2da",
   "metadata": {},
   "outputs": [],
   "source": [
    "def moneda_repetata(n):\n",
    "    stema=0\n",
    "    for i in range(n):\n",
    "        stema+= moneda()\n",
    "    return stema/n"
   ]
  },
  {
   "cell_type": "code",
   "execution_count": 23,
   "id": "5f36a997-1f9b-4229-8cce-8dbcdeb0b18c",
   "metadata": {},
   "outputs": [
    {
     "data": {
      "text/plain": [
       "0.58"
      ]
     },
     "execution_count": 23,
     "metadata": {},
     "output_type": "execute_result"
    }
   ],
   "source": [
    "moneda_repetata(100)"
   ]
  },
  {
   "cell_type": "code",
   "execution_count": 24,
   "id": "cf6ed212-ca5d-4515-93dd-e7445b218b1e",
   "metadata": {},
   "outputs": [],
   "source": [
    "def moneda_repetata_k(n,k):\n",
    "    stema=0\n",
    "    for i in range(n):\n",
    "        stema+= moneda()\n",
    "    return 1 if stema==k else 0"
   ]
  },
  {
   "cell_type": "code",
   "execution_count": 95,
   "id": "a487bd1d-ae33-4157-a444-7cda3e7b4821",
   "metadata": {},
   "outputs": [
    {
     "data": {
      "text/plain": [
       "0"
      ]
     },
     "execution_count": 95,
     "metadata": {},
     "output_type": "execute_result"
    }
   ],
   "source": [
    "moneda_repetata_k(10,5)"
   ]
  },
  {
   "cell_type": "code",
   "execution_count": 108,
   "id": "87f18161-5a63-465d-8075-d62a1c5ce032",
   "metadata": {},
   "outputs": [],
   "source": [
    "nr_repetitii=1000000\n"
   ]
  },
  {
   "cell_type": "code",
   "execution_count": 109,
   "id": "665a5238-b183-4146-8520-3ce36373100f",
   "metadata": {},
   "outputs": [
    {
     "name": "stdout",
     "output_type": "stream",
     "text": [
      "0.245497\n"
     ]
    }
   ],
   "source": [
    "nr_reusite=0\n",
    "n=10\n",
    "k=5\n",
    "for repetari in range(nr_repetitii):\n",
    "    nr_reusite+=moneda_repetata_k(n,k)\n",
    "print(nr_reusite/nr_repetitii)    "
   ]
  },
  {
   "cell_type": "markdown",
   "id": "e56686f0-775c-4de4-99aa-2fdf89fe33d3",
   "metadata": {},
   "source": [
    "Probabilitatea teoretica: $P(X_n^k)=C_n^k p^k q^{n-k}$ (schema binomiala)"
   ]
  },
  {
   "cell_type": "code",
   "execution_count": 112,
   "id": "eeda2b04-cd4b-4aeb-bd24-865edf9cda8d",
   "metadata": {},
   "outputs": [],
   "source": [
    "def probabilitate_teoretica_moneda(p, n,k):\n",
    "    return comb(n,k)*p**k*(1-p)**(n-k)"
   ]
  },
  {
   "cell_type": "code",
   "execution_count": 114,
   "id": "07d24070-530c-4eea-9e8d-98b25b904ed4",
   "metadata": {},
   "outputs": [
    {
     "data": {
      "text/plain": [
       "0.24609375"
      ]
     },
     "execution_count": 114,
     "metadata": {},
     "output_type": "execute_result"
    }
   ],
   "source": [
    "probabilitate_teoretica_moneda(0.5, 10,5)"
   ]
  },
  {
   "cell_type": "code",
   "execution_count": 120,
   "id": "cb3929da-64c7-4ed2-9d6b-42f54d2cc971",
   "metadata": {},
   "outputs": [
    {
     "name": "stdout",
     "output_type": "stream",
     "text": [
      "n=10, k=5, teoretic: 0.24609375, simulare=: 0.24503\n",
      "n=20, k=14, teoretic: 0.03696441650390625, simulare=: 0.03747\n",
      "n=300, k=145, teoretic: 0.038981861224294305, simulare=: 0.03903\n",
      "n=10, k=5, teoretic: 0.24609375, simulare=: 0.24401\n",
      "n=20, k=14, teoretic: 0.03696441650390625, simulare=: 0.03594\n",
      "n=300, k=145, teoretic: 0.038981861224294305, simulare=: 0.03833\n",
      "n=10, k=5, teoretic: 0.24609375, simulare=: 0.24576\n",
      "n=20, k=14, teoretic: 0.03696441650390625, simulare=: 0.03701\n",
      "n=300, k=145, teoretic: 0.038981861224294305, simulare=: 0.03937\n",
      "n=10, k=5, teoretic: 0.24609375, simulare=: 0.24538\n",
      "n=20, k=14, teoretic: 0.03696441650390625, simulare=: 0.03739\n",
      "n=300, k=145, teoretic: 0.038981861224294305, simulare=: 0.03808\n",
      "n=10, k=5, teoretic: 0.24609375, simulare=: 0.24362\n",
      "n=20, k=14, teoretic: 0.03696441650390625, simulare=: 0.03708\n",
      "n=300, k=145, teoretic: 0.038981861224294305, simulare=: 0.03772\n",
      "n=10, k=5, teoretic: 0.24609375, simulare=: 0.24991\n",
      "n=20, k=14, teoretic: 0.03696441650390625, simulare=: 0.03658\n",
      "n=300, k=145, teoretic: 0.038981861224294305, simulare=: 0.03883\n",
      "n=10, k=5, teoretic: 0.24609375, simulare=: 0.24652\n",
      "n=20, k=14, teoretic: 0.03696441650390625, simulare=: 0.0378\n",
      "n=300, k=145, teoretic: 0.038981861224294305, simulare=: 0.03814\n",
      "n=10, k=5, teoretic: 0.24609375, simulare=: 0.24483\n",
      "n=20, k=14, teoretic: 0.03696441650390625, simulare=: 0.03688\n",
      "n=300, k=145, teoretic: 0.038981861224294305, simulare=: 0.03874\n",
      "20.8 s ± 2 s per loop (mean ± std. dev. of 7 runs, 1 loop each)\n"
     ]
    }
   ],
   "source": [
    "%%timeit\n",
    "N=[10,20,300]\n",
    "K=[5,14,145]\n",
    "nr_repetitii=100000\n",
    "for n,k in zip(N,K):\n",
    "    nr_reusite=0\n",
    "    for repetari in range(nr_repetitii):\n",
    "        nr_reusite+=moneda_repetata_k(n,k)\n",
    "    print(f'n={n}, k={k}, teoretic: {probabilitate_teoretica_moneda(0.5, n,k)}, simulare=: {nr_reusite/nr_repetitii}')\n",
    "    "
   ]
  },
  {
   "cell_type": "markdown",
   "id": "c2e3c51a-943d-4315-92e8-812edf88f5bd",
   "metadata": {},
   "source": [
    "## varianta 2"
   ]
  },
  {
   "cell_type": "code",
   "execution_count": 122,
   "id": "9344f7a6-b601-44d6-82e2-1f1e96fbd36c",
   "metadata": {},
   "outputs": [],
   "source": [
    "n=10\n",
    "k=5"
   ]
  },
  {
   "cell_type": "code",
   "execution_count": 142,
   "id": "a4525098-ab1b-4cc4-8452-a724c9034b9d",
   "metadata": {},
   "outputs": [],
   "source": [
    "nr_repetitii=1000000\n",
    "monede=np.random.rand(nr_repetitii,n)"
   ]
  },
  {
   "cell_type": "code",
   "execution_count": 143,
   "id": "4da32dba-fce6-4df1-ba38-9656a1b1abe9",
   "metadata": {},
   "outputs": [],
   "source": [
    "steme =  monede>0.5"
   ]
  },
  {
   "cell_type": "code",
   "execution_count": 144,
   "id": "4f3e6dfe-1872-48ef-96b0-3951d38656dd",
   "metadata": {},
   "outputs": [],
   "source": [
    "cate_steme= np.sum(steme, axis=1)"
   ]
  },
  {
   "cell_type": "code",
   "execution_count": 145,
   "id": "91896405-eeb7-46e4-bd49-a3f905b734c7",
   "metadata": {},
   "outputs": [
    {
     "data": {
      "text/plain": [
       "array([8, 5, 7, ..., 4, 6, 7])"
      ]
     },
     "execution_count": 145,
     "metadata": {},
     "output_type": "execute_result"
    }
   ],
   "source": [
    "cate_steme"
   ]
  },
  {
   "cell_type": "code",
   "execution_count": 146,
   "id": "df622940-b842-45ea-8c94-05e6c2be5e0f",
   "metadata": {},
   "outputs": [],
   "source": [
    "numar = np.sum(cate_steme==k)"
   ]
  },
  {
   "cell_type": "code",
   "execution_count": 147,
   "id": "5da7404b-cf39-42ec-904e-d2f616afdf48",
   "metadata": {},
   "outputs": [
    {
     "data": {
      "text/plain": [
       "246309"
      ]
     },
     "execution_count": 147,
     "metadata": {},
     "output_type": "execute_result"
    }
   ],
   "source": [
    "numar"
   ]
  },
  {
   "cell_type": "code",
   "execution_count": 148,
   "id": "8f06fcd7-8d43-407f-a965-5bed8c5a0172",
   "metadata": {},
   "outputs": [
    {
     "data": {
      "text/plain": [
       "0.246309"
      ]
     },
     "execution_count": 148,
     "metadata": {},
     "output_type": "execute_result"
    }
   ],
   "source": [
    "numar/nr_repetitii"
   ]
  },
  {
   "cell_type": "code",
   "execution_count": 150,
   "id": "e179d1a8-ed34-4bf6-bbcf-080ad274a81c",
   "metadata": {},
   "outputs": [
    {
     "name": "stdout",
     "output_type": "stream",
     "text": [
      "n=10, k=5, teoretic: 0.24609375, simulare=: 0.246472\n",
      "n=20, k=14, teoretic: 0.03696441650390625, simulare=: 0.036823\n",
      "n=300, k=145, teoretic: 0.038981861224294305, simulare=: 0.039004\n",
      "n=10, k=5, teoretic: 0.24609375, simulare=: 0.245592\n",
      "n=20, k=14, teoretic: 0.03696441650390625, simulare=: 0.036969\n",
      "n=300, k=145, teoretic: 0.038981861224294305, simulare=: 0.038854\n",
      "n=10, k=5, teoretic: 0.24609375, simulare=: 0.246032\n",
      "n=20, k=14, teoretic: 0.03696441650390625, simulare=: 0.036813\n",
      "n=300, k=145, teoretic: 0.038981861224294305, simulare=: 0.039127\n",
      "n=10, k=5, teoretic: 0.24609375, simulare=: 0.246003\n",
      "n=20, k=14, teoretic: 0.03696441650390625, simulare=: 0.036963\n",
      "n=300, k=145, teoretic: 0.038981861224294305, simulare=: 0.039007\n",
      "n=10, k=5, teoretic: 0.24609375, simulare=: 0.245901\n",
      "n=20, k=14, teoretic: 0.03696441650390625, simulare=: 0.036826\n",
      "n=300, k=145, teoretic: 0.038981861224294305, simulare=: 0.039258\n",
      "n=10, k=5, teoretic: 0.24609375, simulare=: 0.246607\n",
      "n=20, k=14, teoretic: 0.03696441650390625, simulare=: 0.037169\n",
      "n=300, k=145, teoretic: 0.038981861224294305, simulare=: 0.03893\n",
      "n=10, k=5, teoretic: 0.24609375, simulare=: 0.24648\n",
      "n=20, k=14, teoretic: 0.03696441650390625, simulare=: 0.037278\n",
      "n=300, k=145, teoretic: 0.038981861224294305, simulare=: 0.03885\n",
      "n=10, k=5, teoretic: 0.24609375, simulare=: 0.246927\n",
      "n=20, k=14, teoretic: 0.03696441650390625, simulare=: 0.037264\n",
      "n=300, k=145, teoretic: 0.038981861224294305, simulare=: 0.039361\n",
      "4.33 s ± 537 ms per loop (mean ± std. dev. of 7 runs, 1 loop each)\n"
     ]
    }
   ],
   "source": [
    "%%timeit\n",
    "N=[10,20,300]\n",
    "K=[5,14,145]\n",
    "nr_repetitii=1000000\n",
    "for n,k in zip(N,K):\n",
    "    monede=np.random.rand(nr_repetitii,n)\n",
    "    steme =  monede>0.5\n",
    "    cate_steme= np.sum(steme, axis=1)\n",
    "    numar = np.sum(cate_steme==k)\n",
    "    print(f'n={n}, k={k}, teoretic: {probabilitate_teoretica_moneda(0.5, n,k)}, simulare=: {numar/nr_repetitii}')\n",
    " "
   ]
  },
  {
   "cell_type": "code",
   "execution_count": null,
   "id": "9e0e1bee-9c25-443b-8abf-c2cff733e632",
   "metadata": {},
   "outputs": [],
   "source": [
    "%%timeit\n",
    "N=[10,20,300]\n",
    "K=[5,14,145]\n",
    "nr_repetitii=1000000\n",
    "for n,k in zip(N,K):\n",
    "    # monede=np.random.rand(nr_repetitii,n)\n",
    "    # steme =  monede>0.5\n",
    "    # cate_steme= np.sum(np.random.rand(nr_repetitii,n)>0.5, axis=1)\n",
    "    numar = np.sum(np.sum(np.random.rand(nr_repetitii,n)>0.5, axis=1)==k)\n",
    "    print(f'n={n}, k={k}, teoretic: {probabilitate_teoretica_moneda(0.5, n,k)}, simulare=: {numar/nr_repetitii}')\n",
    " "
   ]
  },
  {
   "cell_type": "markdown",
   "id": "9ab47715-7801-4423-8fad-e4f7b96092f6",
   "metadata": {},
   "source": [
    "## munca individuala."
   ]
  },
  {
   "cell_type": "markdown",
   "id": "94ff4700-f41f-467b-a9b8-c455b2e03110",
   "metadata": {},
   "source": [
    "Se arunca o moneda de  𝑛=10,20,300  de ori. Sa se calculeze probabilitatea ca stema sa apara **cel putin** de  𝑘=5,14,145  de ori."
   ]
  },
  {
   "cell_type": "code",
   "execution_count": null,
   "id": "eb997040-3f3e-4246-ab7d-337bced6aade",
   "metadata": {},
   "outputs": [],
   "source": []
  }
 ],
 "metadata": {
  "kernelspec": {
   "display_name": "Python 3 (ipykernel)",
   "language": "python",
   "name": "python3"
  },
  "language_info": {
   "codemirror_mode": {
    "name": "ipython",
    "version": 3
   },
   "file_extension": ".py",
   "mimetype": "text/x-python",
   "name": "python",
   "nbconvert_exporter": "python",
   "pygments_lexer": "ipython3",
   "version": "3.9.13"
  }
 },
 "nbformat": 4,
 "nbformat_minor": 5
}
