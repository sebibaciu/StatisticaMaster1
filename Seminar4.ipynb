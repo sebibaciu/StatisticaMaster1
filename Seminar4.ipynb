{
 "cells": [
  {
   "cell_type": "markdown",
   "id": "9381d59b-9471-4f71-b1de-3c5316ff99bc",
   "metadata": {},
   "source": [
    "# Seminar 4"
   ]
  },
  {
   "cell_type": "markdown",
   "id": "76da5299-e708-48dc-96d1-1537e3829580",
   "metadata": {},
   "source": [
    "Se aruncă o monedă de $n=10, 20, 300$ de ori. Probabilitatea ca stema să apară de $k=5, 14, 145$ de ori. "
   ]
  },
  {
   "cell_type": "code",
   "execution_count": 150,
   "id": "b43b0773-5b36-47b0-87c3-29d97e9d0ddd",
   "metadata": {},
   "outputs": [],
   "source": [
    "import numpy as np\n",
    "from scipy.special import comb\n",
    "# from itertools import combinations_with_replacement\n",
    "from itertools import product"
   ]
  },
  {
   "cell_type": "markdown",
   "id": "ca770e57-c22c-48e8-8947-c745fd925474",
   "metadata": {},
   "source": [
    "## varianta 1"
   ]
  },
  {
   "cell_type": "code",
   "execution_count": 3,
   "id": "f2b35b3c-58a1-4d17-ab55-756aaba9e09c",
   "metadata": {},
   "outputs": [],
   "source": [
    "def moneda():\n",
    "    # genereaza numere aleatoare\n",
    "    if np.random.rand()<0.5:\n",
    "        return 1 # 1 = Stema\n",
    "    else:\n",
    "        return 0 # 0 = Marca"
   ]
  },
  {
   "cell_type": "code",
   "execution_count": 16,
   "id": "da9f5b49-0b8e-4f6b-98a7-5448334fe8b5",
   "metadata": {},
   "outputs": [
    {
     "data": {
      "text/plain": [
       "0"
      ]
     },
     "execution_count": 16,
     "metadata": {},
     "output_type": "execute_result"
    }
   ],
   "source": [
    "moneda()"
   ]
  },
  {
   "cell_type": "code",
   "execution_count": 4,
   "id": "4ef271a2-83ad-4f86-99cd-be8c041d2bc1",
   "metadata": {},
   "outputs": [],
   "source": [
    "def moneda():\n",
    "    return 1 if np.random.rand()>0.5 else 0"
   ]
  },
  {
   "cell_type": "code",
   "execution_count": 6,
   "id": "1633d68c-49cf-4d2d-a862-eb0be52386cd",
   "metadata": {},
   "outputs": [
    {
     "data": {
      "text/plain": [
       "1"
      ]
     },
     "execution_count": 6,
     "metadata": {},
     "output_type": "execute_result"
    }
   ],
   "source": [
    "moneda()"
   ]
  },
  {
   "cell_type": "code",
   "execution_count": 15,
   "id": "af79d17e-ba4a-467d-af98-0cc81375d4ba",
   "metadata": {},
   "outputs": [],
   "source": [
    "dictionar={0: 'M', 1:'S'}"
   ]
  },
  {
   "cell_type": "code",
   "execution_count": 8,
   "id": "9f6f1704-d060-4433-8e68-c90777948764",
   "metadata": {},
   "outputs": [
    {
     "data": {
      "text/plain": [
       "'M'"
      ]
     },
     "execution_count": 8,
     "metadata": {},
     "output_type": "execute_result"
    }
   ],
   "source": [
    "dictionar[moneda()]"
   ]
  },
  {
   "cell_type": "code",
   "execution_count": 5,
   "id": "68f95830-01da-4804-a922-a4a014b36884",
   "metadata": {},
   "outputs": [
    {
     "name": "stdout",
     "output_type": "stream",
     "text": [
      "4\n"
     ]
    }
   ],
   "source": [
    "n = 10\n",
    "stema = 0\n",
    "for i in range(n):\n",
    "    if moneda()==1:\n",
    "        stema+=1\n",
    "print(stema)"
   ]
  },
  {
   "cell_type": "code",
   "execution_count": 6,
   "id": "d1698227-4a56-470e-8ab2-470e4921d597",
   "metadata": {},
   "outputs": [
    {
     "name": "stdout",
     "output_type": "stream",
     "text": [
      "6\n"
     ]
    }
   ],
   "source": [
    "n = 10\n",
    "stema = 0\n",
    "for i in range(n):\n",
    "    if moneda():\n",
    "        stema+=1\n",
    "print(stema)"
   ]
  },
  {
   "cell_type": "code",
   "execution_count": 7,
   "id": "fcc70f08-fbbb-4b8b-aa60-bc3c23c893f0",
   "metadata": {},
   "outputs": [],
   "source": [
    "def moneda_repetata(n):\n",
    "    stema = 0\n",
    "    for i in range(n):\n",
    "        stema+=moneda()\n",
    "    return stema/n"
   ]
  },
  {
   "cell_type": "code",
   "execution_count": 30,
   "id": "0eef18f0-2c82-4511-982c-eca7614f900c",
   "metadata": {},
   "outputs": [
    {
     "data": {
      "text/plain": [
       "0.58"
      ]
     },
     "execution_count": 30,
     "metadata": {},
     "output_type": "execute_result"
    }
   ],
   "source": [
    "moneda_repetata(100)"
   ]
  },
  {
   "cell_type": "code",
   "execution_count": 8,
   "id": "a6d2ab2b-300e-4f9b-9746-1ad138f6f05f",
   "metadata": {},
   "outputs": [],
   "source": [
    "def moneda_repetata_k(n, k):\n",
    "    stema = 0\n",
    "    for i in range(n):\n",
    "        stema+=moneda()\n",
    "    return 1 if stema==k else 0"
   ]
  },
  {
   "cell_type": "code",
   "execution_count": 21,
   "id": "09bb0439-e009-423f-ac98-e0b9cf069ca7",
   "metadata": {},
   "outputs": [
    {
     "data": {
      "text/plain": [
       "0"
      ]
     },
     "execution_count": 21,
     "metadata": {},
     "output_type": "execute_result"
    }
   ],
   "source": [
    "moneda_repetata_k(10, 5)"
   ]
  },
  {
   "cell_type": "code",
   "execution_count": 22,
   "id": "789d93b2-6fe7-4144-9edd-5cb341b320fd",
   "metadata": {},
   "outputs": [],
   "source": [
    "nr_repetitii=100000"
   ]
  },
  {
   "cell_type": "code",
   "execution_count": 9,
   "id": "f9e048d5-5050-408a-a7b5-05d27545e25d",
   "metadata": {},
   "outputs": [
    {
     "name": "stdout",
     "output_type": "stream",
     "text": [
      "0.24534\n"
     ]
    }
   ],
   "source": [
    "nr_reusite=0\n",
    "n=10\n",
    "k=5\n",
    "for repetari in range(nr_repetitii):\n",
    "    nr_reusite+=moneda_repetata_k(n, k)\n",
    "print(nr_reusite/nr_repetitii)"
   ]
  },
  {
   "cell_type": "markdown",
   "id": "6ed88f39-36e0-4c3b-b7c3-fe47d6fb39fc",
   "metadata": {},
   "source": [
    "Ctrl + \"[\" - align to left. Analog for \"]\""
   ]
  },
  {
   "cell_type": "markdown",
   "id": "6990580f-db1f-4c3c-bc39-974df979e6ba",
   "metadata": {},
   "source": [
    "Probabilitatea teoretica: $P(X_n^k)=C_n^k p^k q^{n-k}$ (schema binomiala)"
   ]
  },
  {
   "cell_type": "code",
   "execution_count": 10,
   "id": "9d46ab1b-10e5-45df-9446-0ebb5124254e",
   "metadata": {},
   "outputs": [],
   "source": [
    "def probabilitate_teoretica_moneda(p, n, k):\n",
    "    return comb(n,k)*p**k*(1-p)**(n-k)"
   ]
  },
  {
   "cell_type": "code",
   "execution_count": 25,
   "id": "6c8ece4b-20a7-4ad6-988b-d69a652023ae",
   "metadata": {},
   "outputs": [
    {
     "data": {
      "text/plain": [
       "0.24609375"
      ]
     },
     "execution_count": 25,
     "metadata": {},
     "output_type": "execute_result"
    }
   ],
   "source": [
    "probabilitate_teoretica_moneda(0.5, 10, 5)"
   ]
  },
  {
   "cell_type": "code",
   "execution_count": 12,
   "id": "81938c4c-cdad-4549-9a43-fee9d282ff27",
   "metadata": {},
   "outputs": [
    {
     "name": "stdout",
     "output_type": "stream",
     "text": [
      "n=10, k=5, teoretic: 0.24609375, simulare: 0.24509\n",
      "n=20, k=14, teoretic: 0.03696441650390625, simulare: 0.03732\n",
      "n=300, k=145, teoretic: 0.038981861224294305, simulare: 0.0396\n",
      "n=10, k=5, teoretic: 0.24609375, simulare: 0.24765\n",
      "n=20, k=14, teoretic: 0.03696441650390625, simulare: 0.03635\n",
      "n=300, k=145, teoretic: 0.038981861224294305, simulare: 0.03845\n",
      "n=10, k=5, teoretic: 0.24609375, simulare: 0.24599\n",
      "n=20, k=14, teoretic: 0.03696441650390625, simulare: 0.037\n",
      "n=300, k=145, teoretic: 0.038981861224294305, simulare: 0.03858\n",
      "n=10, k=5, teoretic: 0.24609375, simulare: 0.24435\n",
      "n=20, k=14, teoretic: 0.03696441650390625, simulare: 0.0375\n",
      "n=300, k=145, teoretic: 0.038981861224294305, simulare: 0.03938\n",
      "n=10, k=5, teoretic: 0.24609375, simulare: 0.24858\n",
      "n=20, k=14, teoretic: 0.03696441650390625, simulare: 0.03798\n",
      "n=300, k=145, teoretic: 0.038981861224294305, simulare: 0.03852\n",
      "n=10, k=5, teoretic: 0.24609375, simulare: 0.24589\n",
      "n=20, k=14, teoretic: 0.03696441650390625, simulare: 0.03659\n",
      "n=300, k=145, teoretic: 0.038981861224294305, simulare: 0.03889\n",
      "n=10, k=5, teoretic: 0.24609375, simulare: 0.24753\n",
      "n=20, k=14, teoretic: 0.03696441650390625, simulare: 0.03757\n",
      "n=300, k=145, teoretic: 0.038981861224294305, simulare: 0.03877\n",
      "n=10, k=5, teoretic: 0.24609375, simulare: 0.24659\n",
      "n=20, k=14, teoretic: 0.03696441650390625, simulare: 0.03679\n",
      "n=300, k=145, teoretic: 0.038981861224294305, simulare: 0.03812\n",
      "19 s ± 402 ms per loop (mean ± std. dev. of 7 runs, 1 loop each)\n"
     ]
    }
   ],
   "source": [
    "%%timeit\n",
    "N=[10, 20, 300]\n",
    "K=[5, 14, 145]\n",
    "nr_repetitii=100000\n",
    "for n, k in zip(N, K):\n",
    "    nr_reusite=0\n",
    "    for repetari in range(nr_repetitii):\n",
    "        nr_reusite+=moneda_repetata_k(n, k)\n",
    "    print(f'n={n}, k={k}, teoretic: {probabilitate_teoretica_moneda(0.5, n, k)}, simulare: {nr_reusite/nr_repetitii}')"
   ]
  },
  {
   "cell_type": "markdown",
   "id": "77d9d50c-4a27-492b-b4a2-3dc792fae12e",
   "metadata": {},
   "source": [
    "## varianta 2"
   ]
  },
  {
   "cell_type": "code",
   "execution_count": 35,
   "id": "beb4b7e5-0121-450b-a33d-f0dd5b7e10d4",
   "metadata": {},
   "outputs": [],
   "source": [
    "n=10\n",
    "k=5"
   ]
  },
  {
   "cell_type": "code",
   "execution_count": null,
   "id": "ce443782-07aa-4c1a-92ac-7213b9f1c32a",
   "metadata": {},
   "outputs": [],
   "source": [
    "nr_repetitii=1000000\n",
    "monede=np.random.rand(nr_repetitii, n)"
   ]
  },
  {
   "cell_type": "code",
   "execution_count": null,
   "id": "1c7b5c07-b316-43b8-a960-2cf10a379afd",
   "metadata": {},
   "outputs": [],
   "source": [
    "monede"
   ]
  },
  {
   "cell_type": "code",
   "execution_count": 38,
   "id": "92722ef2-96ac-4a7b-9529-640f5dbff7c8",
   "metadata": {},
   "outputs": [],
   "source": [
    "steme = monede>0.5"
   ]
  },
  {
   "cell_type": "code",
   "execution_count": 39,
   "id": "26f979d8-b984-4b73-a66a-55313f67fe73",
   "metadata": {},
   "outputs": [
    {
     "data": {
      "text/plain": [
       "array([[ True,  True, False,  True,  True, False,  True, False, False,\n",
       "         True],\n",
       "       [False,  True,  True,  True,  True, False, False, False, False,\n",
       "         True],\n",
       "       [ True,  True,  True, False, False, False,  True,  True,  True,\n",
       "        False],\n",
       "       [ True, False,  True,  True, False,  True,  True, False, False,\n",
       "         True],\n",
       "       [ True, False, False, False,  True,  True,  True, False, False,\n",
       "        False],\n",
       "       [False, False,  True,  True,  True, False,  True, False, False,\n",
       "         True],\n",
       "       [ True, False,  True,  True, False,  True, False,  True,  True,\n",
       "        False],\n",
       "       [False,  True,  True, False, False,  True,  True, False,  True,\n",
       "        False],\n",
       "       [ True,  True, False, False,  True, False, False, False,  True,\n",
       "        False],\n",
       "       [ True, False,  True, False,  True,  True, False, False, False,\n",
       "        False],\n",
       "       [ True,  True, False, False,  True,  True, False,  True, False,\n",
       "        False],\n",
       "       [ True,  True,  True, False, False,  True, False,  True,  True,\n",
       "         True],\n",
       "       [ True,  True,  True,  True, False, False, False,  True, False,\n",
       "        False],\n",
       "       [False, False,  True, False,  True,  True,  True,  True, False,\n",
       "         True],\n",
       "       [False,  True,  True,  True, False, False, False, False, False,\n",
       "        False],\n",
       "       [False, False, False,  True,  True,  True, False,  True,  True,\n",
       "         True],\n",
       "       [False, False, False, False,  True, False,  True, False,  True,\n",
       "        False],\n",
       "       [False,  True, False,  True, False, False,  True,  True,  True,\n",
       "         True],\n",
       "       [ True,  True,  True, False, False, False, False,  True, False,\n",
       "         True],\n",
       "       [False, False, False, False, False,  True,  True,  True,  True,\n",
       "         True]])"
      ]
     },
     "execution_count": 39,
     "metadata": {},
     "output_type": "execute_result"
    }
   ],
   "source": [
    "steme"
   ]
  },
  {
   "cell_type": "code",
   "execution_count": 40,
   "id": "d54819c0-5585-418c-b49a-ed38aaa2c5d2",
   "metadata": {},
   "outputs": [],
   "source": [
    "cate_steme = np.sum(steme, axis = 1)"
   ]
  },
  {
   "cell_type": "code",
   "execution_count": 41,
   "id": "fd493393-b675-472d-a111-14ca83430f2c",
   "metadata": {},
   "outputs": [
    {
     "data": {
      "text/plain": [
       "array([6, 5, 6, 6, 4, 5, 6, 5, 4, 4, 5, 7, 5, 6, 3, 6, 3, 6, 5, 5])"
      ]
     },
     "execution_count": 41,
     "metadata": {},
     "output_type": "execute_result"
    }
   ],
   "source": [
    "cate_steme"
   ]
  },
  {
   "cell_type": "code",
   "execution_count": 42,
   "id": "7a19dd26-0778-4984-b3a0-104290f67c34",
   "metadata": {},
   "outputs": [],
   "source": [
    "numar = cate_steme==k"
   ]
  },
  {
   "cell_type": "code",
   "execution_count": 43,
   "id": "660c4d74-5d8c-476d-afc2-68c8e6657883",
   "metadata": {},
   "outputs": [
    {
     "data": {
      "text/plain": [
       "array([False,  True, False, False, False,  True, False,  True, False,\n",
       "       False,  True, False,  True, False, False, False, False, False,\n",
       "        True,  True])"
      ]
     },
     "execution_count": 43,
     "metadata": {},
     "output_type": "execute_result"
    }
   ],
   "source": [
    "numar"
   ]
  },
  {
   "cell_type": "code",
   "execution_count": 44,
   "id": "c062908e-ebf5-44ab-8bf2-0e20bc6b4781",
   "metadata": {},
   "outputs": [],
   "source": [
    "numar = np.sum(cate_steme==k)"
   ]
  },
  {
   "cell_type": "code",
   "execution_count": 45,
   "id": "5e811c9d-5781-408a-b8e0-47b5d9f22cab",
   "metadata": {},
   "outputs": [
    {
     "data": {
      "text/plain": [
       "7"
      ]
     },
     "execution_count": 45,
     "metadata": {},
     "output_type": "execute_result"
    }
   ],
   "source": [
    "numar"
   ]
  },
  {
   "cell_type": "code",
   "execution_count": 46,
   "id": "d6360418-6bb8-4bcf-8383-9e789a4897ff",
   "metadata": {},
   "outputs": [
    {
     "data": {
      "text/plain": [
       "0.35"
      ]
     },
     "execution_count": 46,
     "metadata": {},
     "output_type": "execute_result"
    }
   ],
   "source": [
    "numar/nr_repetitii"
   ]
  },
  {
   "cell_type": "code",
   "execution_count": 13,
   "id": "f338b846-04b1-460d-97bd-061d4ea6ed7a",
   "metadata": {},
   "outputs": [
    {
     "name": "stdout",
     "output_type": "stream",
     "text": [
      "n=10, k=5, teoretic: 0.24609375, simulare: 0.24714\n",
      "n=20, k=14, teoretic: 0.03696441650390625, simulare: 0.0375\n",
      "n=300, k=145, teoretic: 0.038981861224294305, simulare: 0.03905\n"
     ]
    }
   ],
   "source": [
    "N=[10, 20, 300]\n",
    "K=[5, 14, 145]\n",
    "nr_repetitii=100000\n",
    "for n, k in zip(N, K):\n",
    "    monede=np.random.rand(nr_repetitii, n)\n",
    "    steme = monede>0.5\n",
    "    cate_steme = np.sum(steme, axis = 1)\n",
    "    numar = np.sum(cate_steme==k)\n",
    "    print(f'n={n}, k={k}, teoretic: {probabilitate_teoretica_moneda(0.5, n, k)}, simulare: {numar/nr_repetitii}')"
   ]
  },
  {
   "cell_type": "code",
   "execution_count": 15,
   "id": "b787a090-7188-4283-b55b-a69abec1e369",
   "metadata": {},
   "outputs": [
    {
     "name": "stdout",
     "output_type": "stream",
     "text": [
      "n=10, k=5, teoretic: 0.24609375, simulare: 0.24506\n",
      "n=20, k=14, teoretic: 0.03696441650390625, simulare: 0.03747\n",
      "n=300, k=145, teoretic: 0.038981861224294305, simulare: 0.03909\n",
      "n=10, k=5, teoretic: 0.24609375, simulare: 0.24521\n",
      "n=20, k=14, teoretic: 0.03696441650390625, simulare: 0.03756\n",
      "n=300, k=145, teoretic: 0.038981861224294305, simulare: 0.03825\n",
      "n=10, k=5, teoretic: 0.24609375, simulare: 0.24829\n",
      "n=20, k=14, teoretic: 0.03696441650390625, simulare: 0.03746\n",
      "n=300, k=145, teoretic: 0.038981861224294305, simulare: 0.04002\n",
      "n=10, k=5, teoretic: 0.24609375, simulare: 0.24373\n",
      "n=20, k=14, teoretic: 0.03696441650390625, simulare: 0.03678\n",
      "n=300, k=145, teoretic: 0.038981861224294305, simulare: 0.03913\n",
      "n=10, k=5, teoretic: 0.24609375, simulare: 0.24707\n",
      "n=20, k=14, teoretic: 0.03696441650390625, simulare: 0.03696\n",
      "n=300, k=145, teoretic: 0.038981861224294305, simulare: 0.03802\n",
      "n=10, k=5, teoretic: 0.24609375, simulare: 0.24512\n",
      "n=20, k=14, teoretic: 0.03696441650390625, simulare: 0.0368\n",
      "n=300, k=145, teoretic: 0.038981861224294305, simulare: 0.03785\n",
      "n=10, k=5, teoretic: 0.24609375, simulare: 0.24635\n",
      "n=20, k=14, teoretic: 0.03696441650390625, simulare: 0.0365\n",
      "n=300, k=145, teoretic: 0.038981861224294305, simulare: 0.03922\n",
      "n=10, k=5, teoretic: 0.24609375, simulare: 0.24647\n",
      "n=20, k=14, teoretic: 0.03696441650390625, simulare: 0.03616\n",
      "n=300, k=145, teoretic: 0.038981861224294305, simulare: 0.03928\n",
      "489 ms ± 56.3 ms per loop (mean ± std. dev. of 7 runs, 1 loop each)\n"
     ]
    }
   ],
   "source": [
    "%%timeit\n",
    "N=[10, 20, 300]\n",
    "K=[5, 14, 145]\n",
    "nr_repetitii=100000\n",
    "for n, k in zip(N, K):\n",
    "    # monede=np.random.rand(nr_repetitii, n)\n",
    "    # steme = monede>0.5\n",
    "    # cate_steme = np.sum(steme, axis = 1)\n",
    "    numar = np.sum(np.sum(np.random.rand(nr_repetitii, n)>0.5, axis=1)==k)\n",
    "    print(f'n={n}, k={k}, teoretic: {probabilitate_teoretica_moneda(0.5, n, k)}, simulare: {numar/nr_repetitii}')"
   ]
  },
  {
   "cell_type": "markdown",
   "id": "1e651ea5-4672-4f24-8050-f7ae6d282195",
   "metadata": {},
   "source": [
    "## muncă individuală"
   ]
  },
  {
   "cell_type": "markdown",
   "id": "820e0cd0-25f4-4e4d-88f3-46e96c326183",
   "metadata": {
    "tags": []
   },
   "source": [
    "Se aruncă o monedă de $n=10, 20, 300$ de ori. Probabilitatea ca stema să apară **cel putin** de $k=5, 14, 145$ de ori. "
   ]
  },
  {
   "cell_type": "markdown",
   "id": "34693ec1-d3ad-4359-b9f9-5faf31d10ca4",
   "metadata": {},
   "source": [
    "Formula de calcul: $P(X)=P(X_n^k)+P(X_n^{k+1})+...+P(X_n^n)$"
   ]
  },
  {
   "cell_type": "code",
   "execution_count": 6,
   "id": "0c7efa3d-c81f-498d-93b4-54f72277d867",
   "metadata": {},
   "outputs": [],
   "source": [
    "def probabilitate_teoretica_moneda(p, n, k):\n",
    "    return comb(n,k)*p**k*(1-p)**(n-k)"
   ]
  },
  {
   "cell_type": "code",
   "execution_count": 7,
   "id": "1829a246-b880-4f24-8a83-6ca6011dd8f2",
   "metadata": {},
   "outputs": [],
   "source": [
    "def probabilitate_teoretica_moneda_conditie(p, n, k):\n",
    "    probabilitate = 0\n",
    "    for i in range(k, n+1):\n",
    "        probabilitate = probabilitate + probabilitate_teoretica_moneda(p,n,i)\n",
    "    return probabilitate"
   ]
  },
  {
   "cell_type": "code",
   "execution_count": 11,
   "id": "eae013fe-da5c-44a7-9d05-43ed69b497ef",
   "metadata": {},
   "outputs": [
    {
     "name": "stdout",
     "output_type": "stream",
     "text": [
      "n=10, k=5, teoretic: 0.623046875, simulare: 0.62213\n",
      "n=20, k=14, teoretic: 0.057659149169921875, simulare: 0.05601\n",
      "n=300, k=145, teoretic: 0.7372790022882302, simulare: 0.7377\n"
     ]
    }
   ],
   "source": [
    "N = [10, 20, 300]\n",
    "K = [5, 14, 145]\n",
    "nr_repetitii = 100000\n",
    "for n, k in zip(N, K):\n",
    "    monede = np.random.rand(nr_repetitii, n)\n",
    "    steme = monede > 0.5\n",
    "    cate_steme = np.sum(steme, axis = 1)\n",
    "    numar = np.sum(cate_steme>=k)\n",
    "    print(f'n={n}, k={k}, teoretic: {probabilitate_teoretica_moneda_conditie(0.5, n, k)}, simulare: {numar/nr_repetitii}')"
   ]
  },
  {
   "cell_type": "markdown",
   "id": "a207ddf7-9e54-4b24-a9d8-0f72f66738ea",
   "metadata": {},
   "source": [
    "## temă"
   ]
  },
  {
   "cell_type": "markdown",
   "id": "b0209394-aae0-4a2f-a615-3d6ce0510b49",
   "metadata": {},
   "source": [
    "Se aruncă o un zar de 3 ori.  \n",
    "1. Care e probabilitatea ca suma fețelor să fie 15?"
   ]
  },
  {
   "cell_type": "markdown",
   "id": "bdf82a07-0d5d-4a3c-8ee7-c04acffd420a",
   "metadata": {},
   "source": [
    "**Rezolvare clasică:**    \n",
    "Cazuri posibile = $6^3=216$.  \n",
    "Cazuri favorabile (formula permutărilor cu repetiție):  \n",
    "  \n",
    "$P_R(n)=\\frac{n!}{f(1)!f(2)!f(3)!...f(n)!}$ , unde f(i) este frecvența (numărul de apariții al) numărului i în permutare.  \n",
    "  \n",
    "(3,6,6) : $\\frac{3!}{2!}=\\frac{6}{2}=3$  \n",
    "(4,5,6) : $3!=6$  \n",
    "(5,5,5) : $\\frac{3!}{3!}=1$  \n",
    "Așadar, cazuri favorabile = $3+6+1=10$  \n",
    "Notăm **A** - evenimentul în care suma fețelor este 15. $P(A)=\\frac{cazuri favorabile}{cazuri posibile}=\\frac{10}{216}=0.0462$"
   ]
  },
  {
   "cell_type": "code",
   "execution_count": 216,
   "id": "874601ae-6a45-4ab9-ab9c-160fc3aff57e",
   "metadata": {},
   "outputs": [],
   "source": [
    "total_rolls = 3\n",
    "sum_dice_rolls = 15\n",
    "possible_cases = pow(6, total_rolls)\n",
    "def count_dice_rolls_sum():\n",
    "    favourable_cases = 0\n",
    "    C = []\n",
    "    for number in product(list(range(1, 7)), repeat=3):\n",
    "        C.append(number)\n",
    "    sum_of_elements = np.sum(C, axis = 1)\n",
    "    for i in sum_of_elements:\n",
    "        if i==15:\n",
    "            favourable_cases+=1\n",
    "    print('Number of possible cases:', possible_cases) \n",
    "    print('Number of favourable cases:', favourable_cases) \n",
    "    return favourable_cases/possible_cases"
   ]
  },
  {
   "cell_type": "code",
   "execution_count": 217,
   "id": "1cb5da6d-fc90-45c3-9f17-0a773fc5487e",
   "metadata": {},
   "outputs": [
    {
     "name": "stdout",
     "output_type": "stream",
     "text": [
      "Number of possible cases: 216\n",
      "Number of favourable cases: 10\n"
     ]
    },
    {
     "data": {
      "text/plain": [
       "0.046296296296296294"
      ]
     },
     "execution_count": 217,
     "metadata": {},
     "output_type": "execute_result"
    }
   ],
   "source": [
    "count_dice_rolls_sum()"
   ]
  },
  {
   "cell_type": "markdown",
   "id": "411f0e8b-8279-4c45-836b-1e0fd108242f",
   "metadata": {},
   "source": [
    "2. Care e probabilitatea ca suma fețelor să fie cel puțin 15?"
   ]
  },
  {
   "cell_type": "markdown",
   "id": "1b33a194-b5f2-44e8-b35a-69242d7c83d8",
   "metadata": {},
   "source": [
    "(3,6,6) : $\\frac{3!}{2!}=\\frac{6}{2}=3$  \n",
    "(4,5,6) : $3!=6$  \n",
    "(5,5,5) : $\\frac{3!}{3!}=1$  \n",
    "(5,5,6) : $\\frac{3!}{2!}=3$  \n",
    "(6,6,4) : $\\frac{3!}{2!}=3$\n",
    "(6,6,5) : $\\frac{3!}{2!}=3$  \n",
    "(6,6,6) : $\\frac{3!}{3!}=1$  \n",
    "Așadar, cazuri favorabile = $3+6+1+3+3+3+1=20$  \n",
    "Notăm **B** - evenimentul în care suma fețelor este **cel puțin** 15. $P(B)=\\frac{cazuri favorabile}{cazuri posibile}=\\frac{17}{216}=0.0925$"
   ]
  },
  {
   "cell_type": "code",
   "execution_count": 218,
   "id": "9355933e-cd46-4b0e-8477-f69362b84980",
   "metadata": {},
   "outputs": [],
   "source": [
    "total_rolls = 3\n",
    "sum_dice_rolls = 15\n",
    "possible_cases = pow(6, total_rolls)\n",
    "def count_dice_rolls_sum_atleast():\n",
    "    favourable_cases = 0\n",
    "    C = []\n",
    "    for number in product(list(range(1, 7)), repeat=3):\n",
    "        C.append(number)\n",
    "    sum_of_elements = np.sum(C, axis = 1)\n",
    "    for i in sum_of_elements:\n",
    "        if i<15:\n",
    "            favourable_cases+=1\n",
    "    print('Number of possible cases:', possible_cases) \n",
    "    print('Number of favourable cases:', favourable_cases) \n",
    "    return 1-favourable_cases/possible_cases"
   ]
  },
  {
   "cell_type": "code",
   "execution_count": 219,
   "id": "8a11e785-3d1e-40e2-a0f9-c20d5d339a41",
   "metadata": {},
   "outputs": [
    {
     "name": "stdout",
     "output_type": "stream",
     "text": [
      "Number of possible cases: 216\n",
      "Number of favourable cases: 196\n"
     ]
    },
    {
     "data": {
      "text/plain": [
       "0.09259259259259256"
      ]
     },
     "execution_count": 219,
     "metadata": {},
     "output_type": "execute_result"
    }
   ],
   "source": [
    "count_dice_rolls_sum_atleast()"
   ]
  },
  {
   "cell_type": "code",
   "execution_count": null,
   "id": "48e6f212-c5e7-4f53-a49f-3d277ab23009",
   "metadata": {},
   "outputs": [],
   "source": []
  }
 ],
 "metadata": {
  "kernelspec": {
   "display_name": "Python 3 (ipykernel)",
   "language": "python",
   "name": "python3"
  },
  "language_info": {
   "codemirror_mode": {
    "name": "ipython",
    "version": 3
   },
   "file_extension": ".py",
   "mimetype": "text/x-python",
   "name": "python",
   "nbconvert_exporter": "python",
   "pygments_lexer": "ipython3",
   "version": "3.9.13"
  }
 },
 "nbformat": 4,
 "nbformat_minor": 5
}
