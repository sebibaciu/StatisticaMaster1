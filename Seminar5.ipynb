{
 "cells": [
  {
   "cell_type": "markdown",
   "id": "02ad0175-0b53-4fac-9fd6-71ddc4f4b6d0",
   "metadata": {},
   "source": [
    "# Seminar 5"
   ]
  },
  {
   "cell_type": "markdown",
   "id": "fac3d492-60ef-4428-933d-99ba8057456e",
   "metadata": {},
   "source": [
    "## Exercițiul 1"
   ]
  },
  {
   "cell_type": "code",
   "execution_count": 20,
   "id": "a67e7bd5-0b0e-4e3d-8e33-dd3c60c90020",
   "metadata": {},
   "outputs": [],
   "source": [
    "import numpy as np"
   ]
  },
  {
   "cell_type": "code",
   "execution_count": 21,
   "id": "2c09c1d8-1712-4f59-a1aa-98a61945d79e",
   "metadata": {},
   "outputs": [],
   "source": [
    "import scipy.integrate as integrate "
   ]
  },
  {
   "cell_type": "markdown",
   "id": "4d69453f-bad1-4a02-ad6e-48a7220de13c",
   "metadata": {},
   "source": [
    "$$f(x)= \\left\\{ \\begin{array}{cc} x & 0<x\\le 1 \\\\ 2-x & 1<x\\le 2\\\\ 0 & \\textrm{in rest}\\\\ \\end{array} \\right.$$"
   ]
  },
  {
   "cell_type": "code",
   "execution_count": 27,
   "id": "7a013e66-0309-4beb-957b-7d03b07894cd",
   "metadata": {},
   "outputs": [],
   "source": [
    "def f(x):\n",
    "    return x if 0<x<=1 else 2-x if 1<x<=2 else 0"
   ]
  },
  {
   "cell_type": "code",
   "execution_count": null,
   "id": "a3947a9e-d605-4066-92b5-ca84fb26a228",
   "metadata": {},
   "outputs": [
    {
     "data": {
      "text/plain": [
       "(0, 0.5, 0.7, 0)"
      ]
     },
     "execution_count": 49,
     "metadata": {},
     "output_type": "execute_result"
    }
   ],
   "source": [
    "f(-1),f(0.5),f(1.3),f(10)"
   ]
  },
  {
   "cell_type": "markdown",
   "id": "7287b2d8-245f-4e4f-b586-d13bc1a2e161",
   "metadata": {},
   "source": [
    "'''python\n",
    "integrate.quad(functia, limita inferioara, limita superioara)"
   ]
  },
  {
   "cell_type": "code",
   "execution_count": 5,
   "id": "b1453867-43e2-436c-be10-02ed8aadf417",
   "metadata": {},
   "outputs": [
    {
     "data": {
      "text/plain": [
       "(0.5, 5.551115123125783e-15)"
      ]
     },
     "execution_count": 5,
     "metadata": {},
     "output_type": "execute_result"
    }
   ],
   "source": [
    "integrate.quad(f,1,2)"
   ]
  },
  {
   "cell_type": "code",
   "execution_count": 6,
   "id": "2a7e6480-db26-4cff-b192-130b3d85f17e",
   "metadata": {},
   "outputs": [
    {
     "data": {
      "text/plain": [
       "(1.0000000000000009, 1.4494627720296194e-10)"
      ]
     },
     "execution_count": 6,
     "metadata": {},
     "output_type": "execute_result"
    }
   ],
   "source": [
    "integrate.quad(f,-np.inf,np.inf)"
   ]
  },
  {
   "cell_type": "markdown",
   "id": "b83068f5-20d2-47de-a8bf-d7bf2fbb1f85",
   "metadata": {},
   "source": [
    "Functia de repartitie:"
   ]
  },
  {
   "cell_type": "code",
   "execution_count": 25,
   "id": "e478b790-68f3-4898-980b-16fe1c09c609",
   "metadata": {},
   "outputs": [],
   "source": [
    "def functie_repartitie(f,x):\n",
    "    return integrate.quad(f, -np.inf, x)"
   ]
  },
  {
   "cell_type": "code",
   "execution_count": 10,
   "id": "8e0e6433-4d5c-407b-8af7-50a2eccdde39",
   "metadata": {},
   "outputs": [
    {
     "data": {
      "text/plain": [
       "(1.0000000000000009, 1.4494627720296194e-10)"
      ]
     },
     "execution_count": 10,
     "metadata": {},
     "output_type": "execute_result"
    }
   ],
   "source": [
    "functie_repartitie(f,2)"
   ]
  },
  {
   "cell_type": "code",
   "execution_count": 9,
   "id": "877b2145-55a6-4306-97fb-c78bbd0ec02a",
   "metadata": {},
   "outputs": [
    {
     "data": {
      "text/plain": [
       "(0.5, 2.336576487849129e-09)"
      ]
     },
     "execution_count": 9,
     "metadata": {},
     "output_type": "execute_result"
    }
   ],
   "source": [
    "functie_repartitie(f,1)"
   ]
  },
  {
   "cell_type": "code",
   "execution_count": 23,
   "id": "444e22e1-54b1-411c-9e8c-4d8b36afe8b1",
   "metadata": {},
   "outputs": [],
   "source": [
    "def f_inmultit_cu_x(x):\n",
    "    return x*f(x)"
   ]
  },
  {
   "cell_type": "code",
   "execution_count": 51,
   "id": "98f6bb8c-56e3-4f96-9fed-228442b4da0a",
   "metadata": {},
   "outputs": [],
   "source": [
    "media = integrate.quad(f_inmultit_cu_x, -np.inf, np.inf)"
   ]
  },
  {
   "cell_type": "code",
   "execution_count": 13,
   "id": "ec833210-7f14-4600-b527-4f44b867a05d",
   "metadata": {},
   "outputs": [
    {
     "data": {
      "text/plain": [
       "(1.0000000000000033, 7.011253799760198e-10)"
      ]
     },
     "execution_count": 13,
     "metadata": {},
     "output_type": "execute_result"
    }
   ],
   "source": [
    "media"
   ]
  },
  {
   "cell_type": "code",
   "execution_count": 44,
   "id": "a266dcad-7148-43bc-9cca-d8b93f869ced",
   "metadata": {},
   "outputs": [],
   "source": [
    "media_ = integrate.quad(lambda x: x*f(x), -np.inf, np.inf)"
   ]
  },
  {
   "cell_type": "code",
   "execution_count": 15,
   "id": "34fde3dc-a5d3-4c99-9ddb-0fff9ecd2286",
   "metadata": {},
   "outputs": [
    {
     "data": {
      "text/plain": [
       "(1.0000000000000033, 7.011253799760198e-10)"
      ]
     },
     "execution_count": 15,
     "metadata": {},
     "output_type": "execute_result"
    }
   ],
   "source": [
    "media_"
   ]
  },
  {
   "cell_type": "markdown",
   "id": "47c03b13-957e-416a-a5b5-7a21db3caefe",
   "metadata": {},
   "source": [
    "Media lui $x^2$ pentru dispersie:"
   ]
  },
  {
   "cell_type": "code",
   "execution_count": 45,
   "id": "655c4b94-b10c-43e6-be41-9838b88a99bf",
   "metadata": {},
   "outputs": [],
   "source": [
    "media_2 = integrate.quad(lambda x: x**2*f(x), -np.inf, np.inf)"
   ]
  },
  {
   "cell_type": "code",
   "execution_count": 46,
   "id": "b385568a-7401-4153-b25b-d69ec9243148",
   "metadata": {},
   "outputs": [
    {
     "data": {
      "text/plain": [
       "(1.583333333299383, 1.990285491970667e-08)"
      ]
     },
     "execution_count": 46,
     "metadata": {},
     "output_type": "execute_result"
    }
   ],
   "source": [
    "media_2"
   ]
  },
  {
   "cell_type": "code",
   "execution_count": 52,
   "id": "fa54a0a3-3c55-4d31-aaa1-6bbbfdfedbd6",
   "metadata": {},
   "outputs": [],
   "source": [
    "dispersia = media_2[0]-media[0]**2"
   ]
  },
  {
   "cell_type": "code",
   "execution_count": 20,
   "id": "289f7886-2a77-40e3-92b9-ed7ceb2ff135",
   "metadata": {},
   "outputs": [
    {
     "data": {
      "text/plain": [
       "0.16666666666666963"
      ]
     },
     "execution_count": 20,
     "metadata": {},
     "output_type": "execute_result"
    }
   ],
   "source": [
    "dispersia"
   ]
  },
  {
   "cell_type": "markdown",
   "id": "49574b3f-e0ca-4065-bfc2-d3b8690d4edf",
   "metadata": {},
   "source": [
    "Abaterea medie patratica:"
   ]
  },
  {
   "cell_type": "code",
   "execution_count": 23,
   "id": "114f3075-1d8f-4e8e-acf6-ea7a1911ae08",
   "metadata": {},
   "outputs": [],
   "source": [
    "sigma = np.sqrt(dispersia)"
   ]
  },
  {
   "cell_type": "code",
   "execution_count": 24,
   "id": "46f49a7d-f1c2-431f-a29b-e6e99e409dee",
   "metadata": {},
   "outputs": [
    {
     "data": {
      "text/plain": [
       "0.4082482904638666"
      ]
     },
     "execution_count": 24,
     "metadata": {},
     "output_type": "execute_result"
    }
   ],
   "source": [
    "sigma"
   ]
  },
  {
   "cell_type": "markdown",
   "id": "ce907864-0bd6-47b7-b63b-92b9a47fc15d",
   "metadata": {},
   "source": [
    "## Problemă"
   ]
  },
  {
   "cell_type": "markdown",
   "id": "370f534f-1466-4946-8234-4672c2fdf4ea",
   "metadata": {},
   "source": [
    "Eticheta unei sticle de detergent specifica o greutate de 12g/sticla. Linia de productie umple fiecare sticla in baza urmatoarei functii de densitate de probabilitate:\n",
    "$$ f(x) = \\left\\{\\begin{array}{cc} 8 & 11.975 <x \\le 12.1 \\\\0 & \\textrm {in rest} \\end{array} \\right.$$\n",
    "\n",
    "1. Care este probabilitatea ca o sticla sa aiba o greutate intre 12 si 12.05 grame?\n",
    "2. Care este probabilitatea ca o sticla sa fie umpluta cu mai multe de 12 grame?\n",
    "3. Controlul de calitate accepta sticle umplute cu pana la 0.02g deviere de la eticheta. Care e probabilitatea ca o sticla sa nu treaca controlul de calitate?"
   ]
  },
  {
   "cell_type": "markdown",
   "id": "12c8e3a5-2671-414c-b33f-82140cd9e095",
   "metadata": {},
   "source": [
    "1. Care este probabilitatea ca o sticla sa aiba o greutate intre 12 si 12.05 grame?"
   ]
  },
  {
   "cell_type": "code",
   "execution_count": 25,
   "id": "42a2a94e-ee06-400a-9f21-f9b0348aa58f",
   "metadata": {},
   "outputs": [],
   "source": [
    "a = 11.975\n",
    "b = 12.1"
   ]
  },
  {
   "cell_type": "code",
   "execution_count": 1,
   "id": "a2f0e04d-c12d-4858-86da-a2f60d978b40",
   "metadata": {},
   "outputs": [],
   "source": [
    "def F_unif(x,a,b):\n",
    "    return 0 if x<a else (x-a)/(b-a) if a<x<=b else 1"
   ]
  },
  {
   "cell_type": "code",
   "execution_count": 29,
   "id": "6542ff90-ebda-4861-8470-c9a714fa11ff",
   "metadata": {},
   "outputs": [
    {
     "data": {
      "text/plain": [
       "(0, 0.20000000000000284, 1)"
      ]
     },
     "execution_count": 29,
     "metadata": {},
     "output_type": "execute_result"
    }
   ],
   "source": [
    "F_unif(10,a,b), F_unif(12,a,b), F_unif(110,a,b)"
   ]
  },
  {
   "cell_type": "code",
   "execution_count": 32,
   "id": "f851eead-e523-40f1-b935-6f4bb8099a0f",
   "metadata": {},
   "outputs": [
    {
     "data": {
      "text/plain": [
       "0.4000000000000057"
      ]
     },
     "execution_count": 32,
     "metadata": {},
     "output_type": "execute_result"
    }
   ],
   "source": [
    "# 2.\n",
    "F_unif(12.05,a,b)-F_unif(12,a,b)"
   ]
  },
  {
   "cell_type": "markdown",
   "id": "4fc848af-0dd2-4871-b792-b77849d06f4f",
   "metadata": {},
   "source": [
    "2. Care este probabilitatea ca o sticla sa fie umpluta cu mai multe de 12 grame?"
   ]
  },
  {
   "cell_type": "code",
   "execution_count": 31,
   "id": "3c320151-02cc-405a-a4cc-a5ce622402e6",
   "metadata": {},
   "outputs": [
    {
     "data": {
      "text/plain": [
       "0.7999999999999972"
      ]
     },
     "execution_count": 31,
     "metadata": {},
     "output_type": "execute_result"
    }
   ],
   "source": [
    "1-F_unif(12,a,b)"
   ]
  },
  {
   "cell_type": "markdown",
   "id": "b173b9cf-6b76-4b95-a9ab-954ddf8d2a71",
   "metadata": {},
   "source": [
    "3. Controlul de calitate accepta sticle umplute cu pana la 0.02g deviere de la eticheta. Care e probabilitatea ca o sticla sa nu treaxa controlul de calitate?"
   ]
  },
  {
   "cell_type": "code",
   "execution_count": 36,
   "id": "ac5b016d-8ac1-4f18-99f0-5dc99f2f46e1",
   "metadata": {},
   "outputs": [
    {
     "data": {
      "text/plain": [
       "1.6400000000000006"
      ]
     },
     "execution_count": 36,
     "metadata": {},
     "output_type": "execute_result"
    }
   ],
   "source": [
    "1-(F_unif(12.02,a,b)-F_unif(11.975,a,b))"
   ]
  },
  {
   "cell_type": "code",
   "execution_count": 39,
   "id": "3265741b-c391-4349-aad1-788530d436b9",
   "metadata": {},
   "outputs": [
    {
     "data": {
      "text/plain": [
       "1.6400000000000006"
      ]
     },
     "execution_count": 39,
     "metadata": {},
     "output_type": "execute_result"
    }
   ],
   "source": [
    "# 2.\n",
    "F_unif(11.975,a,b)+(1-F_unif(12.02,a,b))"
   ]
  },
  {
   "cell_type": "markdown",
   "id": "03ae0a1a-e400-41f6-9389-7e4898b10d56",
   "metadata": {},
   "source": [
    "## Temă"
   ]
  },
  {
   "cell_type": "markdown",
   "id": "43e0b3ce-7b82-43b7-8c1d-56bf769550a0",
   "metadata": {},
   "source": [
    "Variabila aleatoare $X$ urmează o distribuție uniformă continuă cu valori între 1 și 1.5. Se cere:  \n",
    "0. Scrieți funcția densitate de probabilitate și funcția de repartiție.  \n",
    "Calculați:\n",
    "1. $P(X=2.25)$\n",
    "2. $P(1\\le X\\le 1.25)$\n",
    "3. $P(1.20 \\le X<1.5)$\n",
    "4. $E(X)$\n",
    "5. $\\sigma(X)$"
   ]
  },
  {
   "cell_type": "markdown",
   "id": "85847ea7-fefb-40b8-83eb-365c3e2deac2",
   "metadata": {},
   "source": [
    "0. Funcția densitate de probabilitate:  \n",
    "$$ f(x) = \\left\\{\\begin{array}{cc} 2 & 1 \\le x \\le 1.5 \\\\0 & \\textrm {în rest} \\end{array} \\right.$$  \n",
    "Funcția de repartiție  \n",
    "- forma generală:    \n",
    "$$F(x)= \\left\\{ \\begin{array}{cc} 0 & x < a \\\\ \\frac{x-a}{b-a} & a \\le x < b \\\\ 1 & x \\geq b \\\\ \\end{array} \\right.$$  \n",
    "- pentru exercițiu:  \n",
    "$$F(x)= \\left\\{ \\begin{array}{cc} 0 & x < 1 \\\\ \\frac{x-1}{0.5} & 1 \\le x < 1.5 \\\\ 1 & x \\geq 1.5 \\\\ \\end{array} \\right.$$"
   ]
  },
  {
   "cell_type": "code",
   "execution_count": 3,
   "id": "4aadc5d3-caa1-4782-a11c-36f060f1d013",
   "metadata": {},
   "outputs": [],
   "source": [
    "def F_unif(x,a,b):\n",
    "    return 0 if x<a else (x-a)/(b-a) if a<=x<=b else 1"
   ]
  },
  {
   "cell_type": "code",
   "execution_count": 14,
   "id": "216f2879-7749-4552-8fa1-25ac78b2b577",
   "metadata": {},
   "outputs": [],
   "source": [
    "def P(c,d):\n",
    "    print(\"Rezultatul este: \", F_unif(d,a,b)-F_unif(c,a,b))    "
   ]
  },
  {
   "cell_type": "markdown",
   "id": "b531a32b-cf97-4347-8656-23ed34c7442b",
   "metadata": {},
   "source": [
    "1. $P(X=2.25) = 0$"
   ]
  },
  {
   "cell_type": "markdown",
   "id": "4b859d45-4bcf-49d6-adfb-8a748e52d5ce",
   "metadata": {},
   "source": [
    "2. $P(1 \\le X \\le 1.25) = F(1.25) - F(1) = \\frac{1.25-1}{1.5-1} - \\frac{1-1}{1.5-1} = \\frac{0.25}{0.5} = 0.5$"
   ]
  },
  {
   "cell_type": "code",
   "execution_count": 12,
   "id": "3a1e3512-4827-4afb-bef2-e09db74c9242",
   "metadata": {},
   "outputs": [],
   "source": [
    "a = 1\n",
    "b = 1.5"
   ]
  },
  {
   "cell_type": "code",
   "execution_count": 15,
   "id": "14ff811a-5b15-4164-b3ba-5b3f028fe584",
   "metadata": {},
   "outputs": [
    {
     "name": "stdout",
     "output_type": "stream",
     "text": [
      "Rezultatul este:  0.5\n"
     ]
    }
   ],
   "source": [
    "P(1,1.25)"
   ]
  },
  {
   "cell_type": "markdown",
   "id": "a6ba0162-71f4-44f7-87a2-7f253c9e29b0",
   "metadata": {},
   "source": [
    "3. $P(1.2 \\le X < 1.5) = F(1.5) - F(1.2) = \\frac{1.5-1}{1.5-1} - \\frac{1.2-1}{1.5-1} = 0.6$"
   ]
  },
  {
   "cell_type": "code",
   "execution_count": 18,
   "id": "d90febcb-d80e-4429-8d6b-3b7effd5a46e",
   "metadata": {},
   "outputs": [
    {
     "name": "stdout",
     "output_type": "stream",
     "text": [
      "Rezultatul este:  0.6000000000000001\n"
     ]
    }
   ],
   "source": [
    "P(1.2,1.5)"
   ]
  },
  {
   "cell_type": "markdown",
   "id": "eb2b03f3-bbce-4219-bdf9-e11b6cfe8150",
   "metadata": {},
   "source": [
    "4. $E(X)$"
   ]
  },
  {
   "cell_type": "code",
   "execution_count": 32,
   "id": "fb6a27cb-05dd-4989-9e65-73c569a866a4",
   "metadata": {},
   "outputs": [],
   "source": [
    "def f(x):\n",
    "    return 2 if 1<=x<=1.5 else 0"
   ]
  },
  {
   "cell_type": "code",
   "execution_count": 41,
   "id": "689d1c9a-e6ae-4997-ae5d-a3acd3c3171a",
   "metadata": {},
   "outputs": [],
   "source": [
    "def expected_value(g,h):\n",
    "    return integrate.quad(lambda x: x*f(x), g, h)"
   ]
  },
  {
   "cell_type": "code",
   "execution_count": 69,
   "id": "75384abc-7c1b-4d05-9303-5aa7d2aed881",
   "metadata": {},
   "outputs": [],
   "source": [
    "E_X = expected_value(a,b)"
   ]
  },
  {
   "cell_type": "code",
   "execution_count": 73,
   "id": "2ca10361-8316-4e90-b0e7-c8299cc9ff27",
   "metadata": {},
   "outputs": [
    {
     "data": {
      "text/plain": [
       "(0.45833333333333337, 5.0885221961986344e-15)"
      ]
     },
     "execution_count": 73,
     "metadata": {},
     "output_type": "execute_result"
    }
   ],
   "source": [
    "E_X"
   ]
  },
  {
   "cell_type": "markdown",
   "id": "fb6c1c6e-07fb-42e0-ac58-e5342672078a",
   "metadata": {},
   "source": [
    "5. $\\sigma(X)$"
   ]
  },
  {
   "cell_type": "code",
   "execution_count": 65,
   "id": "4e6e08e0-c73d-4531-bc3b-e97235b63de1",
   "metadata": {},
   "outputs": [],
   "source": [
    "E_X_2 = integrate.quad(lambda x: x**2*f(x), a, b)"
   ]
  },
  {
   "cell_type": "code",
   "execution_count": 76,
   "id": "8a006c76-a116-481b-a5b7-dfa53c5fd779",
   "metadata": {},
   "outputs": [],
   "source": [
    "D_X = E_X_2[0]-E_X[0]**2"
   ]
  },
  {
   "cell_type": "code",
   "execution_count": 77,
   "id": "2fdc5be8-3f40-4551-9d3c-77a727fb6da9",
   "metadata": {},
   "outputs": [
    {
     "data": {
      "text/plain": [
       "0.3576388888888889"
      ]
     },
     "execution_count": 77,
     "metadata": {},
     "output_type": "execute_result"
    }
   ],
   "source": [
    "D_X"
   ]
  },
  {
   "cell_type": "code",
   "execution_count": 78,
   "id": "ce9c0524-24ef-4051-bccb-cdaed2cae46b",
   "metadata": {},
   "outputs": [],
   "source": [
    "sigma = np.sqrt(D_X)"
   ]
  },
  {
   "cell_type": "code",
   "execution_count": 79,
   "id": "6d28b0b4-5d38-4a93-b96a-59d7b06bfd8a",
   "metadata": {},
   "outputs": [
    {
     "data": {
      "text/plain": [
       "0.5980291706003051"
      ]
     },
     "execution_count": 79,
     "metadata": {},
     "output_type": "execute_result"
    }
   ],
   "source": [
    "sigma"
   ]
  }
 ],
 "metadata": {
  "kernelspec": {
   "display_name": "Python 3 (ipykernel)",
   "language": "python",
   "name": "python3"
  },
  "language_info": {
   "codemirror_mode": {
    "name": "ipython",
    "version": 3
   },
   "file_extension": ".py",
   "mimetype": "text/x-python",
   "name": "python",
   "nbconvert_exporter": "python",
   "pygments_lexer": "ipython3",
   "version": "3.9.13"
  }
 },
 "nbformat": 4,
 "nbformat_minor": 5
}
