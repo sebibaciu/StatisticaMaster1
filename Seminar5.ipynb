{
 "cells": [
  {
   "cell_type": "markdown",
   "id": "0c1c97bf-f430-43d4-bd84-e4a15a3b77df",
   "metadata": {},
   "source": [
    "# Seminar 5"
   ]
  },
  {
   "cell_type": "code",
   "execution_count": 1,
   "id": "db641c92-ff9e-41a4-8c0a-bb7c045d5381",
   "metadata": {},
   "outputs": [],
   "source": [
    "import numpy as np"
   ]
  },
  {
   "cell_type": "code",
   "execution_count": 2,
   "id": "5be4d79d-b91d-4670-93f3-d36adb07b12c",
   "metadata": {},
   "outputs": [],
   "source": [
    "import scipy.integrate as integrate"
   ]
  },
  {
   "cell_type": "markdown",
   "id": "002bdb49-d742-4ce0-ae20-d4dc21d2fb4f",
   "metadata": {},
   "source": [
    "$$f(x)= \\left\\{ \\begin{array}{cc} x & 0<x\\le 1 \\\\ 2-x & 1<x\\le 2\\\\ 0 & \\textrm{ in rest }\\\\ \\end{array} \\right. $$"
   ]
  },
  {
   "cell_type": "code",
   "execution_count": 3,
   "id": "01eb371b-233b-4d26-b7b5-3756bb67ade9",
   "metadata": {},
   "outputs": [],
   "source": [
    "def f(x):\n",
    "    return x if 0<x<=1 else 2-x if 1<x<=2 else 0"
   ]
  },
  {
   "cell_type": "code",
   "execution_count": 4,
   "id": "9475e9aa-d5c4-407d-8739-e021b90fe1ad",
   "metadata": {},
   "outputs": [
    {
     "data": {
      "text/plain": [
       "(0, 0.5, 0.7, 0)"
      ]
     },
     "execution_count": 4,
     "metadata": {},
     "output_type": "execute_result"
    }
   ],
   "source": [
    "f(-1),f(0.5), f(1.3), f(10)"
   ]
  },
  {
   "cell_type": "markdown",
   "id": "e62cd16c-1023-4935-bca1-e0aebec862bc",
   "metadata": {},
   "source": [
    "```python\n",
    "integrate.quad(functia, limita inferioara, limita superioara)\n",
    "```"
   ]
  },
  {
   "cell_type": "code",
   "execution_count": 6,
   "id": "0c011178-ce3a-474a-a177-e13da2be9432",
   "metadata": {},
   "outputs": [
    {
     "data": {
      "text/plain": [
       "(0.5, 5.551115123125783e-15)"
      ]
     },
     "execution_count": 6,
     "metadata": {},
     "output_type": "execute_result"
    }
   ],
   "source": [
    "integrate.quad(f, 1,2)"
   ]
  },
  {
   "cell_type": "code",
   "execution_count": 7,
   "id": "d90045fc-7e2f-4176-a508-bc94a3d0d465",
   "metadata": {},
   "outputs": [
    {
     "data": {
      "text/plain": [
       "(1.0000000000000009, 1.4494627720296194e-10)"
      ]
     },
     "execution_count": 7,
     "metadata": {},
     "output_type": "execute_result"
    }
   ],
   "source": [
    "integrate.quad(f, -np.inf, np.inf)"
   ]
  },
  {
   "cell_type": "code",
   "execution_count": 8,
   "id": "92ec28ee-7e30-4ce4-bf95-31589cedd3dd",
   "metadata": {},
   "outputs": [],
   "source": [
    "def functie_repartitie(f,x):\n",
    "    return integrate.quad(f, -np.inf, x)"
   ]
  },
  {
   "cell_type": "code",
   "execution_count": 11,
   "id": "e304968a-7004-48ef-9cd7-92869abb6411",
   "metadata": {},
   "outputs": [
    {
     "data": {
      "text/plain": [
       "(0.9999999999999984, 9.135781020574996e-11)"
      ]
     },
     "execution_count": 11,
     "metadata": {},
     "output_type": "execute_result"
    }
   ],
   "source": [
    "functie_repartitie(f, 5)"
   ]
  },
  {
   "cell_type": "code",
   "execution_count": 10,
   "id": "64e269b8-3442-429a-b2f9-d39f20bbf23c",
   "metadata": {},
   "outputs": [
    {
     "data": {
      "text/plain": [
       "(0.5, 2.336576487849129e-09)"
      ]
     },
     "execution_count": 10,
     "metadata": {},
     "output_type": "execute_result"
    }
   ],
   "source": [
    "functie_repartitie(f, 1)"
   ]
  },
  {
   "cell_type": "code",
   "execution_count": 14,
   "id": "95916481-9b1e-489f-a1f4-4b4e58b8d299",
   "metadata": {},
   "outputs": [
    {
     "data": {
      "text/plain": [
       "(1.0000000000000009, 1.4494627720296194e-10)"
      ]
     },
     "execution_count": 14,
     "metadata": {},
     "output_type": "execute_result"
    }
   ],
   "source": [
    "integrate.quad(f, -np.inf, np.inf)"
   ]
  },
  {
   "cell_type": "code",
   "execution_count": 15,
   "id": "20d11b3c-536d-4390-b096-f26c1b727d12",
   "metadata": {},
   "outputs": [],
   "source": [
    "def f_inmultit_cu_x(x):\n",
    "    return x*f(x)"
   ]
  },
  {
   "cell_type": "code",
   "execution_count": 16,
   "id": "e07d0516-b3b4-4729-b1f2-1028b7563a7b",
   "metadata": {},
   "outputs": [],
   "source": [
    "media = integrate.quad(f_inmultit_cu_x, -np.inf, np.inf)"
   ]
  },
  {
   "cell_type": "code",
   "execution_count": 17,
   "id": "71d7cb8e-e65f-41cb-ae00-3321f9e226ea",
   "metadata": {},
   "outputs": [
    {
     "data": {
      "text/plain": [
       "(1.0000000000000033, 7.011253799760198e-10)"
      ]
     },
     "execution_count": 17,
     "metadata": {},
     "output_type": "execute_result"
    }
   ],
   "source": [
    "media"
   ]
  },
  {
   "cell_type": "code",
   "execution_count": 18,
   "id": "216a1e04-1a2a-4769-9476-80676f219802",
   "metadata": {},
   "outputs": [],
   "source": [
    "media_ = integrate.quad(lambda x: x*f(x), -np.inf, np.inf)"
   ]
  },
  {
   "cell_type": "code",
   "execution_count": 19,
   "id": "0369fa27-072a-4a77-b290-2d359d8ce6b8",
   "metadata": {},
   "outputs": [
    {
     "data": {
      "text/plain": [
       "(1.0000000000000033, 7.011253799760198e-10)"
      ]
     },
     "execution_count": 19,
     "metadata": {},
     "output_type": "execute_result"
    }
   ],
   "source": [
    "media_"
   ]
  },
  {
   "cell_type": "code",
   "execution_count": 20,
   "id": "90fa26a9-dde7-4c2f-ad60-4b80c3c690c0",
   "metadata": {},
   "outputs": [],
   "source": [
    "media_2 = integrate.quad(lambda x: x**2*f(x), -np.inf, np.inf)"
   ]
  },
  {
   "cell_type": "code",
   "execution_count": 21,
   "id": "7721f7de-67d8-4c57-82f3-04d87b735e0e",
   "metadata": {},
   "outputs": [
    {
     "data": {
      "text/plain": [
       "(1.1666666666666763, 2.778943741787998e-09)"
      ]
     },
     "execution_count": 21,
     "metadata": {},
     "output_type": "execute_result"
    }
   ],
   "source": [
    "media_2"
   ]
  },
  {
   "cell_type": "code",
   "execution_count": 23,
   "id": "b446e740-7d46-403c-91eb-6c9577e1211f",
   "metadata": {},
   "outputs": [],
   "source": [
    "dispersia=media_2[0]-media[0]**2"
   ]
  },
  {
   "cell_type": "code",
   "execution_count": 25,
   "id": "8605be34-b600-4f82-8012-f08bdb4a9d19",
   "metadata": {},
   "outputs": [
    {
     "data": {
      "text/plain": [
       "((1.1666666666666763, 2.778943741787998e-09), 1.1666666666666763)"
      ]
     },
     "execution_count": 25,
     "metadata": {},
     "output_type": "execute_result"
    }
   ],
   "source": [
    "media_2, media_2[0]"
   ]
  },
  {
   "cell_type": "code",
   "execution_count": 26,
   "id": "7c533d95-c861-4f71-ab54-50a7cee37aac",
   "metadata": {},
   "outputs": [
    {
     "data": {
      "text/plain": [
       "0.16666666666666963"
      ]
     },
     "execution_count": 26,
     "metadata": {},
     "output_type": "execute_result"
    }
   ],
   "source": [
    "dispersia"
   ]
  },
  {
   "cell_type": "code",
   "execution_count": 27,
   "id": "d9cc77c2-1d17-4751-b126-7bb725d1be7e",
   "metadata": {},
   "outputs": [],
   "source": [
    "sigma = np.sqrt(dispersia)"
   ]
  },
  {
   "cell_type": "code",
   "execution_count": 28,
   "id": "9a79b96e-02ba-4ca3-99a8-eec00eb0ac37",
   "metadata": {},
   "outputs": [
    {
     "data": {
      "text/plain": [
       "0.4082482904638666"
      ]
     },
     "execution_count": 28,
     "metadata": {},
     "output_type": "execute_result"
    }
   ],
   "source": [
    "sigma"
   ]
  },
  {
   "cell_type": "markdown",
   "id": "d9e34d56-0de4-4f2e-88fd-d5c7f23e1583",
   "metadata": {},
   "source": [
    "## Problema"
   ]
  },
  {
   "cell_type": "markdown",
   "id": "75b18f54-3536-4d3c-a941-8e7868621311",
   "metadata": {},
   "source": [
    "Eticheta unei sticle de detergent specifica o greutate de 12g/sticla. Linia de productie umple fiecare sticla in baza urmatoarei functii de densitate de probabilitate:\n",
    "$$ f(x) = \\left\\{\\begin{array}{cc} 8 & 11.975 <x \\le 12.1 \\\\0 & \\textrm{ in rest} \\end{array} \\right.$$\n",
    "\n",
    "1. Care este probabilitatea ca o sticla sa aiba o greutate intre 12 si 12.05 grame?\n",
    "2. Care este probabilitatea ca o sticla sa fie umpluta cu mai mult de 12 grame?\n",
    "3. Controlul de calitate accepta sticle umplute cu pana la 0.02g deviere de la eticheta. Care e probabilitatea ca o sticla sa nu treaca controlul de calitate?"
   ]
  },
  {
   "cell_type": "code",
   "execution_count": 30,
   "id": "4ced06b5-2ef8-49ab-8004-8db6293a92f5",
   "metadata": {},
   "outputs": [
    {
     "data": {
      "text/plain": [
       "8.0"
      ]
     },
     "execution_count": 30,
     "metadata": {},
     "output_type": "execute_result"
    }
   ],
   "source": [
    "1/(12.1-11.975)"
   ]
  },
  {
   "cell_type": "markdown",
   "id": "7ab9d84b-7bee-4e1d-bed0-b7492548e654",
   "metadata": {},
   "source": [
    "1. Care este probabilitatea ca o sticla sa aiba o greutate intre 12 si 12.05 grame?"
   ]
  },
  {
   "cell_type": "code",
   "execution_count": 32,
   "id": "f755213c-18d0-494b-80ba-8300c43b5823",
   "metadata": {},
   "outputs": [],
   "source": [
    "a=11.975\n",
    "b=12.1"
   ]
  },
  {
   "cell_type": "code",
   "execution_count": 35,
   "id": "bc5be982-2c76-45ab-882a-7b2a0e201838",
   "metadata": {},
   "outputs": [],
   "source": [
    "def F_unif(x,a=11.975,b=12.1):\n",
    "    return 0 if x<a else (x-a)/(b-a) if a<x<=b else 1"
   ]
  },
  {
   "cell_type": "code",
   "execution_count": 39,
   "id": "6a7e37ed-e05b-4ed3-87f4-765a6b3ed3f2",
   "metadata": {},
   "outputs": [
    {
     "data": {
      "text/plain": [
       "(0, 0.20000000000000284, 1)"
      ]
     },
     "execution_count": 39,
     "metadata": {},
     "output_type": "execute_result"
    }
   ],
   "source": [
    "F_unif(10), F_unif(12), F_unif(110)"
   ]
  },
  {
   "cell_type": "code",
   "execution_count": 40,
   "id": "378e19c1-f93d-4b81-b1ac-13f15f72e699",
   "metadata": {},
   "outputs": [
    {
     "data": {
      "text/plain": [
       "0.4000000000000057"
      ]
     },
     "execution_count": 40,
     "metadata": {},
     "output_type": "execute_result"
    }
   ],
   "source": [
    "# 1.\n",
    "F_unif(12.05)-F_unif(12)"
   ]
  },
  {
   "cell_type": "markdown",
   "id": "ab288a11-7968-4da1-a33d-bd4e41072b6b",
   "metadata": {},
   "source": [
    "2. Care este probabilitatea ca o sticla sa fie umpluta cu mai mult de 12 grame?"
   ]
  },
  {
   "cell_type": "code",
   "execution_count": 41,
   "id": "944e8c13-2c62-4e00-a92c-912ce4c9ff32",
   "metadata": {},
   "outputs": [
    {
     "data": {
      "text/plain": [
       "0.7999999999999972"
      ]
     },
     "execution_count": 41,
     "metadata": {},
     "output_type": "execute_result"
    }
   ],
   "source": [
    "1-F_unif(12)"
   ]
  },
  {
   "cell_type": "markdown",
   "id": "a7080a89-88e2-4baf-a2d5-18ffe02a9e54",
   "metadata": {},
   "source": [
    "3. Controlul de calitate accepta sticle umplute cu pana la 0.02g deviere de la eticheta. Care e probabilitatea ca o sticla sa nu treaca controlul de calitate?"
   ]
  },
  {
   "cell_type": "code",
   "execution_count": 43,
   "id": "56b3ece3-27ba-4e31-b232-f2a121a2cf42",
   "metadata": {},
   "outputs": [
    {
     "data": {
      "text/plain": [
       "0.6800000000000068"
      ]
     },
     "execution_count": 43,
     "metadata": {},
     "output_type": "execute_result"
    }
   ],
   "source": [
    "1-(F_unif(12.02)-F_unif(11.98))"
   ]
  },
  {
   "cell_type": "code",
   "execution_count": 44,
   "id": "0fec840c-46c2-4b8d-a3f0-c9070257e78b",
   "metadata": {},
   "outputs": [
    {
     "data": {
      "text/plain": [
       "0.6800000000000068"
      ]
     },
     "execution_count": 44,
     "metadata": {},
     "output_type": "execute_result"
    }
   ],
   "source": [
    "F_unif(11.98)+(1-F_unif(12.02))"
   ]
  },
  {
   "cell_type": "markdown",
   "id": "8db6781d-1ab3-4943-b18c-4512cf4e88d3",
   "metadata": {},
   "source": [
    "## Problema"
   ]
  },
  {
   "cell_type": "markdown",
   "id": "144e3160-ec3b-4f05-a88a-8b7fab778163",
   "metadata": {},
   "source": [
    "Variabila aleatoare $X$ urmeaza o distributie uniforma continua cu valori intre 1 si 1.5.   \n",
    "\n",
    "0. Scrieti functia densitate de probabilitate si functia de repartitie. \n",
    "  \n",
    "Calculati:\n",
    "1.  $P(X=1.25)$.\n",
    "2.  $P(1\\le X\\le 1.25)$.\n",
    "3. $ P(1.20 \\le X<1.5)$.\n",
    "4. $E(X)$\n",
    "5. $\\sigma(X)$"
   ]
  },
  {
   "cell_type": "code",
   "execution_count": null,
   "id": "ea211b52-8fa0-45fb-a67e-adfed6d23a3a",
   "metadata": {},
   "outputs": [],
   "source": []
  }
 ],
 "metadata": {
  "kernelspec": {
   "display_name": "Python 3 (ipykernel)",
   "language": "python",
   "name": "python3"
  },
  "language_info": {
   "codemirror_mode": {
    "name": "ipython",
    "version": 3
   },
   "file_extension": ".py",
   "mimetype": "text/x-python",
   "name": "python",
   "nbconvert_exporter": "python",
   "pygments_lexer": "ipython3",
   "version": "3.9.13"
  }
 },
 "nbformat": 4,
 "nbformat_minor": 5
}
