{
 "cells": [
  {
   "cell_type": "code",
   "execution_count": 33,
   "id": "df0596a9-f16a-4302-b3a6-718adb35fe78",
   "metadata": {},
   "outputs": [],
   "source": [
    "a=3"
   ]
  },
  {
   "cell_type": "markdown",
   "id": "e7df1235-af18-4d1d-a529-89318b0dcda6",
   "metadata": {},
   "source": [
    "text oarecare"
   ]
  },
  {
   "cell_type": "markdown",
   "id": "28d559d6-8d67-4b0b-8fda-b21816a7183e",
   "metadata": {},
   "source": [
    "# text"
   ]
  },
  {
   "cell_type": "markdown",
   "id": "4a09dcd2-ed82-4cf4-a11b-c694d0327199",
   "metadata": {},
   "source": [
    "## text heading 2"
   ]
  },
  {
   "cell_type": "markdown",
   "id": "628dc289-8594-4c3e-85aa-ae251230b0db",
   "metadata": {},
   "source": [
    "### heading 3"
   ]
  },
  {
   "cell_type": "markdown",
   "id": "94e2990f-04c7-4327-b953-205fe55835ef",
   "metadata": {},
   "source": [
    "#### heading 4"
   ]
  },
  {
   "cell_type": "raw",
   "id": "91f281cb-2c3c-4691-85bb-b08ea840cd55",
   "metadata": {},
   "source": [
    "text raw"
   ]
  },
  {
   "cell_type": "markdown",
   "id": "022d32a4-9cf1-493a-92e5-24cafb42d6da",
   "metadata": {},
   "source": [
    "text **bold**, *italics* sau -taiat-"
   ]
  },
  {
   "cell_type": "markdown",
   "id": "ba324abe-d76d-4eec-9d67-3ded01f79cad",
   "metadata": {},
   "source": [
    "liste:\n",
    "1. primul element\n",
    "1. al doilea element\n",
    "3. al treilea\n",
    "    1. sublista 1\n",
    "    3. sublista 2\n",
    "5. lista mare"
   ]
  },
  {
   "cell_type": "markdown",
   "id": "1251869a-6e81-488d-ba0c-c44578f14702",
   "metadata": {},
   "source": [
    "lista simpla:\n",
    "- ceva pe lista\n",
    "- altceva pe lista\n",
    "    - sublista ceva\n",
    "    - sublista altceva\n",
    "- completez lista initiala"
   ]
  },
  {
   "cell_type": "markdown",
   "id": "3dcf3d5a-cea3-454a-8652-b77a4e497342",
   "metadata": {},
   "source": [
    "check list:\n",
    "- [ ] ceva\n",
    "- [x] ceva bifat\n",
    "- nimic"
   ]
  },
  {
   "cell_type": "markdown",
   "id": "3fc5ef36-7f3b-4496-9202-e7f2b690b65a",
   "metadata": {},
   "source": [
    "text pe mai multe linii  \n",
    "trebuie sa pun doua spatii la sfarsit de linie"
   ]
  },
  {
   "cell_type": "markdown",
   "id": "7d742f05-3cbf-424c-915f-98e6b4fb5208",
   "metadata": {},
   "source": [
    "link: [text de afisat](http://econ.ubbcluj.ro)"
   ]
  },
  {
   "cell_type": "markdown",
   "id": "f33b404c-c723-49e0-adf0-9d13349a8ec2",
   "metadata": {},
   "source": [
    "> bloc de text"
   ]
  },
  {
   "cell_type": "markdown",
   "id": "b9002709-43c9-4eaa-a7ed-b898ee6d7ec8",
   "metadata": {},
   "source": [
    "> bloc  \n",
    "> de   \n",
    "> text"
   ]
  },
  {
   "cell_type": "markdown",
   "id": "cf5eec17-8905-4548-a214-92b6c9ceb612",
   "metadata": {},
   "source": [
    "cod python:\n",
    "```python\n",
    "a=3\n",
    "print(a)\n",
    "```"
   ]
  },
  {
   "cell_type": "markdown",
   "id": "59a75db1-9f67-45c8-9d4e-9c61e1c148b7",
   "metadata": {},
   "source": [
    "asa nu:  \n",
    "cod python:\n",
    "'''python\n",
    "a=3\n",
    "print(a)\n",
    "'''"
   ]
  },
  {
   "cell_type": "markdown",
   "id": "325efcd4-ecca-4d9c-abc4-7070841b8ea5",
   "metadata": {},
   "source": [
    "formule matematice: $x_2$"
   ]
  },
  {
   "cell_type": "markdown",
   "id": "d9d8415c-7e60-4117-b679-752e2ed21867",
   "metadata": {},
   "source": [
    "$x^2$, $x^{2y+4}$, $\\mu$"
   ]
  },
  {
   "cell_type": "markdown",
   "id": "22c15a95-8de3-4843-b72f-d885b573f598",
   "metadata": {},
   "source": [
    "$$\\sum_{i=1}^n x_i$$"
   ]
  },
  {
   "cell_type": "markdown",
   "id": "2bb6f175-26f5-439b-979a-c7118cb01c7b",
   "metadata": {},
   "source": [
    "text oarecare $$\\frac{x_i}{1+y_i}$$ si dupa"
   ]
  },
  {
   "cell_type": "markdown",
   "id": "cba89beb-a47f-4dab-97e3-192c71ecf829",
   "metadata": {},
   "source": [
    "$\\overline{x}$"
   ]
  },
  {
   "cell_type": "code",
   "execution_count": null,
   "id": "bb75bf28-9b0f-44fd-9ae0-83ebda6601ab",
   "metadata": {},
   "outputs": [],
   "source": []
  }
 ],
 "metadata": {
  "kernelspec": {
   "display_name": "Python 3 (ipykernel)",
   "language": "python",
   "name": "python3"
  },
  "language_info": {
   "codemirror_mode": {
    "name": "ipython",
    "version": 3
   },
   "file_extension": ".py",
   "mimetype": "text/x-python",
   "name": "python",
   "nbconvert_exporter": "python",
   "pygments_lexer": "ipython3",
   "version": "3.8.12"
  }
 },
 "nbformat": 4,
 "nbformat_minor": 5
}
