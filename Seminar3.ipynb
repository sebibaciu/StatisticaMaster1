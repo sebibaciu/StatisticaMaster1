{
 "cells": [
  {
   "cell_type": "code",
   "execution_count": 1,
   "id": "26cbab82-c3a2-4308-8679-94c029e1ce80",
   "metadata": {},
   "outputs": [
    {
     "name": "stdout",
     "output_type": "stream",
     "text": [
      "Hello, world!\n"
     ]
    }
   ],
   "source": [
    "print(\"Hello, world!\")"
   ]
  },
  {
   "cell_type": "code",
   "execution_count": 2,
   "id": "7647e2ae-92f9-45d4-aa66-9644cca1aef7",
   "metadata": {},
   "outputs": [
    {
     "name": "stdout",
     "output_type": "stream",
     "text": [
      "\n"
     ]
    }
   ],
   "source": [
    "print()"
   ]
  },
  {
   "cell_type": "code",
   "execution_count": 3,
   "id": "a59f3795-0a1e-4a31-8269-b330c28466d7",
   "metadata": {},
   "outputs": [],
   "source": [
    "import numpy as np"
   ]
  },
  {
   "cell_type": "code",
   "execution_count": 4,
   "id": "2f65e359-1098-4a44-af98-54029867ace3",
   "metadata": {},
   "outputs": [],
   "source": [
    "b=[1,2,3]"
   ]
  },
  {
   "cell_type": "code",
   "execution_count": 5,
   "id": "070ac868-bcf0-453c-b9ed-925af0d99230",
   "metadata": {},
   "outputs": [
    {
     "data": {
      "text/plain": [
       "[1, 2, 3]"
      ]
     },
     "execution_count": 5,
     "metadata": {},
     "output_type": "execute_result"
    }
   ],
   "source": [
    "b"
   ]
  },
  {
   "cell_type": "code",
   "execution_count": 6,
   "id": "c3c633ee-35c6-4dab-99d8-322a065bd486",
   "metadata": {},
   "outputs": [
    {
     "data": {
      "text/plain": [
       "\u001b[1;31mType:\u001b[0m        list\n",
       "\u001b[1;31mString form:\u001b[0m [1, 2, 3]\n",
       "\u001b[1;31mLength:\u001b[0m      3\n",
       "\u001b[1;31mDocstring:\u001b[0m  \n",
       "Built-in mutable sequence.\n",
       "\n",
       "If no argument is given, the constructor creates a new empty list.\n",
       "The argument must be an iterable if specified.\n"
      ]
     },
     "metadata": {},
     "output_type": "display_data"
    }
   ],
   "source": [
    "?b"
   ]
  },
  {
   "cell_type": "code",
   "execution_count": 7,
   "id": "917bd92e-a4d1-432f-b558-74052fcee2c7",
   "metadata": {},
   "outputs": [],
   "source": [
    "def sum(a,b):\n",
    "    return a+b"
   ]
  },
  {
   "cell_type": "raw",
   "id": "9b8f0af1-59fe-4928-b4c6-4381ea8a2397",
   "metadata": {},
   "source": [
    "sum(2,3)"
   ]
  },
  {
   "cell_type": "code",
   "execution_count": 10,
   "id": "6656ed15-6c90-4636-872b-c19328c64752",
   "metadata": {},
   "outputs": [],
   "source": [
    "def suma(a,b):\n",
    "    \"\"\"\n",
    "    Functia calculeaza suma lui a si b.\n",
    "    params: a -- primul nr\n",
    "            b -- al doilea nr\n",
    "    \"\"\"\n",
    "    return a+b"
   ]
  },
  {
   "cell_type": "code",
   "execution_count": 9,
   "id": "3bcd9b23-9613-4aac-9a4d-c8b068a2fb4f",
   "metadata": {},
   "outputs": [
    {
     "data": {
      "text/plain": [
       "5"
      ]
     },
     "execution_count": 9,
     "metadata": {},
     "output_type": "execute_result"
    }
   ],
   "source": [
    "suma(2,3)"
   ]
  },
  {
   "cell_type": "code",
   "execution_count": 11,
   "id": "afa7dcea-96cd-457d-8a24-7e92f3602e90",
   "metadata": {},
   "outputs": [
    {
     "data": {
      "text/plain": [
       "\u001b[1;31mSignature:\u001b[0m \u001b[0msuma\u001b[0m\u001b[1;33m(\u001b[0m\u001b[0ma\u001b[0m\u001b[1;33m,\u001b[0m \u001b[0mb\u001b[0m\u001b[1;33m)\u001b[0m\u001b[1;33m\u001b[0m\u001b[1;33m\u001b[0m\u001b[0m\n",
       "\u001b[1;31mDocstring:\u001b[0m\n",
       "Functia calculeaza suma lui a si b.\n",
       "params: a -- primul nr\n",
       "        b -- al doilea nr\n",
       "\u001b[1;31mFile:\u001b[0m      c:\\users\\damaris\\appdata\\local\\temp\\ipykernel_38640\\1610827563.py\n",
       "\u001b[1;31mType:\u001b[0m      function\n"
      ]
     },
     "metadata": {},
     "output_type": "display_data"
    }
   ],
   "source": [
    "suma?"
   ]
  },
  {
   "cell_type": "code",
   "execution_count": 12,
   "id": "2aebc222-15c7-4c6c-8ac7-71287e392fbd",
   "metadata": {},
   "outputs": [
    {
     "data": {
      "text/plain": [
       "10"
      ]
     },
     "execution_count": 12,
     "metadata": {},
     "output_type": "execute_result"
    }
   ],
   "source": [
    "a=4\n",
    "# a=5 ctrl+slash\n",
    "suma(a,6)"
   ]
  },
  {
   "cell_type": "code",
   "execution_count": 13,
   "id": "f9e52b79-41e0-4837-91e8-b7e5f11c982e",
   "metadata": {},
   "outputs": [
    {
     "name": "stdout",
     "output_type": "stream",
     "text": [
      "No variables match your requested type.\n"
     ]
    }
   ],
   "source": [
    "%who # variabile si parametrii incarcati"
   ]
  },
  {
   "cell_type": "code",
   "execution_count": 14,
   "id": "854497e3-22ab-4035-abb8-33b7e8a563d8",
   "metadata": {},
   "outputs": [
    {
     "name": "stdout",
     "output_type": "stream",
     "text": [
      "a\t b\t np\t sum\t suma\t \n"
     ]
    }
   ],
   "source": [
    "%who"
   ]
  },
  {
   "cell_type": "code",
   "execution_count": 15,
   "id": "3eecb685-320b-4719-8a22-9adfcdc7bf27",
   "metadata": {},
   "outputs": [
    {
     "name": "stdout",
     "output_type": "stream",
     "text": [
      "Variable   Type        Data/Info\n",
      "--------------------------------\n",
      "a          int         4\n",
      "b          list        n=3\n",
      "np         module      <module 'numpy' from 'C:\\<...>ges\\\\numpy\\\\__init__.py'>\n",
      "sum        function    <function sum at 0x0000027A4E65A160>\n",
      "suma       function    <function suma at 0x0000027A5014F040>\n"
     ]
    }
   ],
   "source": [
    "%whos"
   ]
  },
  {
   "cell_type": "code",
   "execution_count": 19,
   "id": "4f5c18ff-337f-4aa0-913b-b45a5a6c88e5",
   "metadata": {},
   "outputs": [
    {
     "data": {
      "text/plain": [
       "'C:\\\\Users\\\\Damaris\\\\Seminar SIDC'"
      ]
     },
     "execution_count": 19,
     "metadata": {},
     "output_type": "execute_result"
    }
   ],
   "source": [
    "%pwd\n",
    "# working directory"
   ]
  },
  {
   "cell_type": "code",
   "execution_count": 18,
   "id": "e10a293c-9030-4e37-9361-5c7e993466c5",
   "metadata": {},
   "outputs": [
    {
     "data": {
      "text/plain": [
       "'C:\\\\Users\\\\Damaris\\\\Seminar SIDC'"
      ]
     },
     "execution_count": 18,
     "metadata": {},
     "output_type": "execute_result"
    }
   ],
   "source": [
    "%pwd"
   ]
  },
  {
   "cell_type": "code",
   "execution_count": 20,
   "id": "a8738309-89ca-44f9-a09e-212fddf81061",
   "metadata": {},
   "outputs": [
    {
     "name": "stdout",
     "output_type": "stream",
     "text": [
      "138 ns ± 14.7 ns per loop (mean ± std. dev. of 7 runs, 10,000,000 loops each)\n"
     ]
    }
   ],
   "source": [
    "%timeit suma(1,2)"
   ]
  },
  {
   "cell_type": "markdown",
   "id": "57fa20e8-1d22-40a7-a7f5-9b67360a6cfd",
   "metadata": {},
   "source": [
    "python"
   ]
  },
  {
   "cell_type": "code",
   "execution_count": 21,
   "id": "83c22004-e741-44bc-a2ff-d1ae2b2f62af",
   "metadata": {},
   "outputs": [],
   "source": [
    "a=[1,2,3]"
   ]
  },
  {
   "cell_type": "code",
   "execution_count": 22,
   "id": "98b38f7a-6240-4dbf-8908-0c0459894de9",
   "metadata": {},
   "outputs": [],
   "source": [
    "b=a"
   ]
  },
  {
   "cell_type": "code",
   "execution_count": 23,
   "id": "b9cf087c-2d64-4630-9f41-de2ab8f5c21f",
   "metadata": {},
   "outputs": [
    {
     "data": {
      "text/plain": [
       "[1, 2, 3]"
      ]
     },
     "execution_count": 23,
     "metadata": {},
     "output_type": "execute_result"
    }
   ],
   "source": [
    "b"
   ]
  },
  {
   "cell_type": "code",
   "execution_count": null,
   "id": "52bbc4c3-3ecd-4ac1-b8d0-d8c443c30d5f",
   "metadata": {},
   "outputs": [],
   "source": []
  },
  {
   "cell_type": "code",
   "execution_count": 24,
   "id": "0889bef8-104e-4915-b7e8-333eb209fcf7",
   "metadata": {},
   "outputs": [],
   "source": [
    "a.append(5)"
   ]
  },
  {
   "cell_type": "code",
   "execution_count": 25,
   "id": "da04f8b3-b14b-49cb-870a-694f937692ff",
   "metadata": {},
   "outputs": [
    {
     "data": {
      "text/plain": [
       "[1, 2, 3, 5]"
      ]
     },
     "execution_count": 25,
     "metadata": {},
     "output_type": "execute_result"
    }
   ],
   "source": [
    "a"
   ]
  },
  {
   "cell_type": "code",
   "execution_count": 26,
   "id": "e0346c33-199d-4294-84cc-cf16ed6155a4",
   "metadata": {},
   "outputs": [
    {
     "data": {
      "text/plain": [
       "[1, 2, 3, 5]"
      ]
     },
     "execution_count": 26,
     "metadata": {},
     "output_type": "execute_result"
    }
   ],
   "source": [
    "b"
   ]
  },
  {
   "cell_type": "code",
   "execution_count": 27,
   "id": "03654a41-f031-49a4-9cc2-193395ad2bdd",
   "metadata": {},
   "outputs": [],
   "source": [
    "c=a.copy()"
   ]
  },
  {
   "cell_type": "code",
   "execution_count": 29,
   "id": "f5c0609e-b87c-4d37-b0f1-855794819e0a",
   "metadata": {},
   "outputs": [],
   "source": [
    "a[0]=1000"
   ]
  },
  {
   "cell_type": "code",
   "execution_count": null,
   "id": "b464b780-5d0d-4b0b-814e-d10003000ffb",
   "metadata": {},
   "outputs": [],
   "source": []
  },
  {
   "cell_type": "code",
   "execution_count": 30,
   "id": "071d4b13-bbac-42dc-9bc3-3ba0cfeefe64",
   "metadata": {},
   "outputs": [
    {
     "data": {
      "text/plain": [
       "[1000, 2, 3, 5]"
      ]
     },
     "execution_count": 30,
     "metadata": {},
     "output_type": "execute_result"
    }
   ],
   "source": [
    "a"
   ]
  },
  {
   "cell_type": "code",
   "execution_count": 31,
   "id": "a940265c-7c71-42db-a473-bf1eee77cb3f",
   "metadata": {},
   "outputs": [
    {
     "data": {
      "text/plain": [
       "[1, 2, 3, 5]"
      ]
     },
     "execution_count": 31,
     "metadata": {},
     "output_type": "execute_result"
    }
   ],
   "source": [
    "c"
   ]
  },
  {
   "cell_type": "code",
   "execution_count": 32,
   "id": "38066a6c-095f-4879-9c20-5dba3906c163",
   "metadata": {},
   "outputs": [
    {
     "data": {
      "text/plain": [
       "[1000, 2, 3, 5]"
      ]
     },
     "execution_count": 32,
     "metadata": {},
     "output_type": "execute_result"
    }
   ],
   "source": [
    "b"
   ]
  },
  {
   "cell_type": "code",
   "execution_count": 35,
   "id": "7dd5a30b-d2a7-4210-b8b1-1a2240ec9574",
   "metadata": {},
   "outputs": [],
   "source": [
    "n=10938203820358320582"
   ]
  },
  {
   "cell_type": "code",
   "execution_count": 36,
   "id": "7e30ad00-f2bb-41c2-ad7a-a5c7057fcef2",
   "metadata": {},
   "outputs": [
    {
     "data": {
      "text/plain": [
       "10938203820358320582"
      ]
     },
     "execution_count": 36,
     "metadata": {},
     "output_type": "execute_result"
    }
   ],
   "source": [
    "n"
   ]
  },
  {
   "cell_type": "code",
   "execution_count": 37,
   "id": "c3eb58cc-861a-4fb3-9e46-ff99a8c42b88",
   "metadata": {},
   "outputs": [
    {
     "data": {
      "text/plain": [
       "5.46910191017916e+18"
      ]
     },
     "execution_count": 37,
     "metadata": {},
     "output_type": "execute_result"
    }
   ],
   "source": [
    "n/2"
   ]
  },
  {
   "cell_type": "code",
   "execution_count": 38,
   "id": "cc2414e5-672b-417b-b7db-c30832cf8cd1",
   "metadata": {},
   "outputs": [],
   "source": [
    "# nr intreg"
   ]
  },
  {
   "cell_type": "code",
   "execution_count": 39,
   "id": "1c81c201-67a1-4d43-85e3-42d2d4a6d666",
   "metadata": {},
   "outputs": [
    {
     "data": {
      "text/plain": [
       "1"
      ]
     },
     "execution_count": 39,
     "metadata": {},
     "output_type": "execute_result"
    }
   ],
   "source": [
    "5//3"
   ]
  },
  {
   "cell_type": "code",
   "execution_count": 40,
   "id": "6611ce21-9da8-46ea-bd7b-b1ff2a60a2a6",
   "metadata": {},
   "outputs": [
    {
     "data": {
      "text/plain": [
       "32"
      ]
     },
     "execution_count": 40,
     "metadata": {},
     "output_type": "execute_result"
    }
   ],
   "source": [
    "2**5"
   ]
  },
  {
   "cell_type": "code",
   "execution_count": 41,
   "id": "ebe26353-62a9-4958-91ee-af71fd6fe6e0",
   "metadata": {},
   "outputs": [],
   "source": [
    "a='ceva text'"
   ]
  },
  {
   "cell_type": "code",
   "execution_count": 42,
   "id": "7a32d8fb-ffc4-41dc-8be8-50067816f0b4",
   "metadata": {},
   "outputs": [
    {
     "name": "stdout",
     "output_type": "stream",
     "text": [
      "ceva text\n"
     ]
    }
   ],
   "source": [
    "print(a)"
   ]
  },
  {
   "cell_type": "code",
   "execution_count": 43,
   "id": "0781f238-3572-4963-abf3-111f245d76b7",
   "metadata": {},
   "outputs": [
    {
     "name": "stdout",
     "output_type": "stream",
     "text": [
      "ceva text [1000, 2, 3, 5] [1, 2, 3, 5]\n"
     ]
    }
   ],
   "source": [
    "print(a,b,c)"
   ]
  },
  {
   "cell_type": "code",
   "execution_count": 45,
   "id": "67640e8f-6cb7-4014-a48d-24596b10a781",
   "metadata": {},
   "outputs": [
    {
     "name": "stdout",
     "output_type": "stream",
     "text": [
      "text care contine a=24\n"
     ]
    }
   ],
   "source": [
    "a=24\n",
    "print(f'text care contine a={a}')"
   ]
  },
  {
   "cell_type": "code",
   "execution_count": 46,
   "id": "e2ce86e7-89c7-456a-b01c-83a233fa604d",
   "metadata": {},
   "outputs": [
    {
     "name": "stdout",
     "output_type": "stream",
     "text": [
      "a=4 e mai mic decat 10\n"
     ]
    }
   ],
   "source": [
    "a=4\n",
    "if a<10:\n",
    "    print(f'a={a} e mai mic decat 10')\n",
    "else:\n",
    "    print(f'nu')"
   ]
  },
  {
   "cell_type": "code",
   "execution_count": 47,
   "id": "d94dcda2-b9a2-4450-a641-002426dffef4",
   "metadata": {},
   "outputs": [
    {
     "name": "stdout",
     "output_type": "stream",
     "text": [
      "a=4 e mai mic decat 10\n"
     ]
    }
   ],
   "source": [
    "print(f'a={a} e mai mic decat 10') if a<10 else print('nu e')"
   ]
  },
  {
   "cell_type": "code",
   "execution_count": 49,
   "id": "96a0d2a2-f2a8-4281-a8fb-4f589e05d0e5",
   "metadata": {},
   "outputs": [
    {
     "name": "stdout",
     "output_type": "stream",
     "text": [
      "20\n"
     ]
    }
   ],
   "source": [
    "if a<10:\n",
    "    b=a*5\n",
    "elif a<29:\n",
    "    b=a*10\n",
    "else:\n",
    "    b=a*15\n",
    "print(b)"
   ]
  },
  {
   "cell_type": "code",
   "execution_count": 50,
   "id": "1f3ae3a0-007f-40db-886e-67ec0c07f034",
   "metadata": {},
   "outputs": [
    {
     "name": "stdout",
     "output_type": "stream",
     "text": [
      "1\n",
      "2\n",
      "3\n",
      "5\n"
     ]
    }
   ],
   "source": [
    "for el in c:\n",
    "    print(el)"
   ]
  },
  {
   "cell_type": "code",
   "execution_count": 51,
   "id": "f7227827-e081-46ea-9762-c793abb5eb87",
   "metadata": {},
   "outputs": [
    {
     "name": "stdout",
     "output_type": "stream",
     "text": [
      "0 1\n",
      "1 2\n",
      "2 3\n",
      "3 5\n"
     ]
    }
   ],
   "source": [
    "for index, el in enumerate(c):\n",
    "    print(index, el)"
   ]
  },
  {
   "cell_type": "code",
   "execution_count": 53,
   "id": "a42898e1-e3ba-4bcc-bfc9-5f31136f3de2",
   "metadata": {},
   "outputs": [
    {
     "data": {
      "text/plain": [
       "[0, 1, 2, 3, 4, 5, 6, 7, 8, 9]"
      ]
     },
     "execution_count": 53,
     "metadata": {},
     "output_type": "execute_result"
    }
   ],
   "source": [
    "list(range(10))\n",
    "# limita superioara nu este inclusa in lista"
   ]
  },
  {
   "cell_type": "code",
   "execution_count": 54,
   "id": "7fd5dbd4-8c67-4e59-9d3e-acbc46e48f1e",
   "metadata": {},
   "outputs": [
    {
     "name": "stdout",
     "output_type": "stream",
     "text": [
      "0 0\n",
      "1 1\n",
      "2 4\n",
      "3 9\n",
      "4 16\n",
      "5 25\n",
      "6 36\n",
      "7 49\n",
      "8 64\n",
      "9 81\n"
     ]
    }
   ],
   "source": [
    "for i in range(10):\n",
    "    print(i, i**2)"
   ]
  },
  {
   "cell_type": "code",
   "execution_count": 55,
   "id": "250506cc-502b-49d0-a133-278cd9620461",
   "metadata": {},
   "outputs": [
    {
     "name": "stdout",
     "output_type": "stream",
     "text": [
      "0 0\n",
      "1 1\n",
      "2 4\n",
      "3 9\n",
      "4 16\n",
      "5 125\n",
      "6 216\n",
      "7 343\n",
      "8 512\n",
      "9 729\n"
     ]
    }
   ],
   "source": [
    "for i in range(10):\n",
    "    if i<5:\n",
    "        print(i, i**2)\n",
    "    else:\n",
    "        print(i, i**3)"
   ]
  },
  {
   "cell_type": "code",
   "execution_count": 56,
   "id": "f03112cd-7ca2-4e60-be8a-c21b093fbc7a",
   "metadata": {},
   "outputs": [
    {
     "name": "stdout",
     "output_type": "stream",
     "text": [
      "0 0\n",
      "1 1\n",
      "2 4\n",
      "3 9\n",
      "4 16\n",
      "5 125\n",
      "6 216\n",
      "7 343\n",
      "8 512\n",
      "9 729\n"
     ]
    }
   ],
   "source": [
    "for i in range(10): print(i, i**2) if i<5 else print(i, i**3)"
   ]
  },
  {
   "cell_type": "markdown",
   "id": "1c6959ad-8c9c-4aa8-9374-73432a14421e",
   "metadata": {},
   "source": [
    "numpy"
   ]
  },
  {
   "cell_type": "code",
   "execution_count": 57,
   "id": "eff29473-e9e8-4c05-8f94-63b1dfa89c22",
   "metadata": {},
   "outputs": [],
   "source": [
    "import numpy as np"
   ]
  },
  {
   "cell_type": "code",
   "execution_count": 58,
   "id": "2d3d6c11-3d2e-49c7-8849-b52aff27ee81",
   "metadata": {},
   "outputs": [],
   "source": [
    "a=[1,2,3]"
   ]
  },
  {
   "cell_type": "code",
   "execution_count": 59,
   "id": "47f8b375-cfaf-46cb-8962-6fbb1eeea89d",
   "metadata": {},
   "outputs": [
    {
     "data": {
      "text/plain": [
       "list"
      ]
     },
     "execution_count": 59,
     "metadata": {},
     "output_type": "execute_result"
    }
   ],
   "source": [
    "type(a)"
   ]
  },
  {
   "cell_type": "code",
   "execution_count": 60,
   "id": "66ac2d67-857b-4b66-879a-8f56c3942338",
   "metadata": {},
   "outputs": [],
   "source": [
    "a=np.array(a)"
   ]
  },
  {
   "cell_type": "code",
   "execution_count": 61,
   "id": "1d32b881-4439-4f8d-a07d-8013fa2646e5",
   "metadata": {},
   "outputs": [
    {
     "data": {
      "text/plain": [
       "array([1, 2, 3])"
      ]
     },
     "execution_count": 61,
     "metadata": {},
     "output_type": "execute_result"
    }
   ],
   "source": [
    "a"
   ]
  },
  {
   "cell_type": "code",
   "execution_count": 62,
   "id": "c8b423c7-830f-4091-aabb-343b2e2ac365",
   "metadata": {},
   "outputs": [
    {
     "data": {
      "text/plain": [
       "numpy.ndarray"
      ]
     },
     "execution_count": 62,
     "metadata": {},
     "output_type": "execute_result"
    }
   ],
   "source": [
    "type(a)"
   ]
  },
  {
   "cell_type": "code",
   "execution_count": 63,
   "id": "987f6111-21d9-4725-a268-f465a917063c",
   "metadata": {},
   "outputs": [],
   "source": [
    "# lista bidimensionala\n",
    "b=[[1,2,3],[4,5]]"
   ]
  },
  {
   "cell_type": "code",
   "execution_count": 64,
   "id": "93d21a7b-c24e-4d80-aaf6-d6207231fb7a",
   "metadata": {},
   "outputs": [
    {
     "data": {
      "text/plain": [
       "[[1, 2, 3], [4, 5]]"
      ]
     },
     "execution_count": 64,
     "metadata": {},
     "output_type": "execute_result"
    }
   ],
   "source": [
    "b"
   ]
  },
  {
   "cell_type": "code",
   "execution_count": 65,
   "id": "f6ef98e8-a4ae-4877-9464-429872199ac9",
   "metadata": {},
   "outputs": [],
   "source": [
    "c=[[1,2,3],[4,5,6]]"
   ]
  },
  {
   "cell_type": "code",
   "execution_count": 66,
   "id": "65daef81-7b5e-4347-8c6d-87d624eef38f",
   "metadata": {},
   "outputs": [
    {
     "data": {
      "text/plain": [
       "[[1, 2, 3], [4, 5, 6]]"
      ]
     },
     "execution_count": 66,
     "metadata": {},
     "output_type": "execute_result"
    }
   ],
   "source": [
    "c"
   ]
  },
  {
   "cell_type": "code",
   "execution_count": 67,
   "id": "502c4b07-b3c8-4d85-a059-9ba47b97f8a1",
   "metadata": {},
   "outputs": [
    {
     "data": {
      "text/plain": [
       "list"
      ]
     },
     "execution_count": 67,
     "metadata": {},
     "output_type": "execute_result"
    }
   ],
   "source": [
    "type(c)"
   ]
  },
  {
   "cell_type": "code",
   "execution_count": 68,
   "id": "679c26cc-ea6b-499f-91c6-a007b9dc58d0",
   "metadata": {},
   "outputs": [],
   "source": [
    "c=np.array(c)"
   ]
  },
  {
   "cell_type": "code",
   "execution_count": 69,
   "id": "71da5217-6997-4b1d-b6de-0f5ce2333ebb",
   "metadata": {},
   "outputs": [
    {
     "data": {
      "text/plain": [
       "numpy.ndarray"
      ]
     },
     "execution_count": 69,
     "metadata": {},
     "output_type": "execute_result"
    }
   ],
   "source": [
    "type(c)"
   ]
  },
  {
   "cell_type": "code",
   "execution_count": 70,
   "id": "d657652c-6d70-478b-b102-c45977eb2dee",
   "metadata": {},
   "outputs": [
    {
     "data": {
      "text/plain": [
       "array([[1, 2, 3],\n",
       "       [4, 5, 6]])"
      ]
     },
     "execution_count": 70,
     "metadata": {},
     "output_type": "execute_result"
    }
   ],
   "source": [
    "c"
   ]
  },
  {
   "cell_type": "code",
   "execution_count": 72,
   "id": "4ea9a22d-53d1-449a-9b99-ddfd66cc9fa4",
   "metadata": {},
   "outputs": [
    {
     "data": {
      "text/plain": [
       "(3,)"
      ]
     },
     "execution_count": 72,
     "metadata": {},
     "output_type": "execute_result"
    }
   ],
   "source": [
    "# dimensiunea\n",
    "a.shape"
   ]
  },
  {
   "cell_type": "code",
   "execution_count": 73,
   "id": "f092316c-e5bf-473f-808b-195f38a46070",
   "metadata": {},
   "outputs": [
    {
     "data": {
      "text/plain": [
       "(2, 3)"
      ]
     },
     "execution_count": 73,
     "metadata": {},
     "output_type": "execute_result"
    }
   ],
   "source": [
    "# tuplu\n",
    "c.shape"
   ]
  },
  {
   "cell_type": "code",
   "execution_count": 75,
   "id": "93d1e6f7-391b-451e-a91a-d846a3b03d9f",
   "metadata": {},
   "outputs": [],
   "source": [
    "linii=c.shape[0]"
   ]
  },
  {
   "cell_type": "code",
   "execution_count": 76,
   "id": "9ec2494c-3454-48ad-b9e4-1fc7a43ae828",
   "metadata": {},
   "outputs": [
    {
     "data": {
      "text/plain": [
       "2"
      ]
     },
     "execution_count": 76,
     "metadata": {},
     "output_type": "execute_result"
    }
   ],
   "source": [
    "linii"
   ]
  },
  {
   "cell_type": "code",
   "execution_count": 77,
   "id": "3ebaa157-8a6c-4ebc-8a5a-af3601f3e6d7",
   "metadata": {},
   "outputs": [],
   "source": [
    "coloane=c.shape[1]"
   ]
  },
  {
   "cell_type": "code",
   "execution_count": 78,
   "id": "3a07805c-64ae-4cf8-b3a8-45f3aa81264e",
   "metadata": {},
   "outputs": [
    {
     "data": {
      "text/plain": [
       "3"
      ]
     },
     "execution_count": 78,
     "metadata": {},
     "output_type": "execute_result"
    }
   ],
   "source": [
    "coloane"
   ]
  },
  {
   "cell_type": "code",
   "execution_count": 79,
   "id": "60051727-fd62-4974-9737-cee9b3e65399",
   "metadata": {},
   "outputs": [
    {
     "data": {
      "text/plain": [
       "1"
      ]
     },
     "execution_count": 79,
     "metadata": {},
     "output_type": "execute_result"
    }
   ],
   "source": [
    "a.ndim"
   ]
  },
  {
   "cell_type": "code",
   "execution_count": 80,
   "id": "445b87e6-8b30-4967-8fae-e41fcfdea906",
   "metadata": {},
   "outputs": [
    {
     "data": {
      "text/plain": [
       "2"
      ]
     },
     "execution_count": 80,
     "metadata": {},
     "output_type": "execute_result"
    }
   ],
   "source": [
    "c.ndim"
   ]
  },
  {
   "cell_type": "code",
   "execution_count": 81,
   "id": "d04eba0f-1fd2-4590-9426-8e67fc982c13",
   "metadata": {},
   "outputs": [
    {
     "data": {
      "text/plain": [
       "dtype('int32')"
      ]
     },
     "execution_count": 81,
     "metadata": {},
     "output_type": "execute_result"
    }
   ],
   "source": [
    "# tip de date\n",
    "a.dtype"
   ]
  },
  {
   "cell_type": "code",
   "execution_count": 82,
   "id": "c8ba9275-f628-4d24-bdc3-44903e58bcdf",
   "metadata": {},
   "outputs": [],
   "source": [
    "d=np.array([1.3, 4, 6])"
   ]
  },
  {
   "cell_type": "code",
   "execution_count": 83,
   "id": "6126e013-7dc7-4fea-bbe8-6d49a5fa614d",
   "metadata": {},
   "outputs": [
    {
     "data": {
      "text/plain": [
       "dtype('float64')"
      ]
     },
     "execution_count": 83,
     "metadata": {},
     "output_type": "execute_result"
    }
   ],
   "source": [
    "d.dtype"
   ]
  },
  {
   "cell_type": "code",
   "execution_count": 84,
   "id": "163d5de6-b1ed-4d9b-ac2b-9cdfa2b4ada4",
   "metadata": {},
   "outputs": [
    {
     "data": {
      "text/plain": [
       "array([[1, 2, 3],\n",
       "       [4, 5, 6]])"
      ]
     },
     "execution_count": 84,
     "metadata": {},
     "output_type": "execute_result"
    }
   ],
   "source": [
    "c"
   ]
  },
  {
   "cell_type": "code",
   "execution_count": 85,
   "id": "7ba0e801-f58e-4f76-a9fd-e00f2256c810",
   "metadata": {},
   "outputs": [
    {
     "data": {
      "text/plain": [
       "array([1, 2, 3])"
      ]
     },
     "execution_count": 85,
     "metadata": {},
     "output_type": "execute_result"
    }
   ],
   "source": [
    "a"
   ]
  },
  {
   "cell_type": "code",
   "execution_count": 86,
   "id": "d22bb9d0-ca53-4119-a991-318f231d77ad",
   "metadata": {},
   "outputs": [
    {
     "data": {
      "text/plain": [
       "2"
      ]
     },
     "execution_count": 86,
     "metadata": {},
     "output_type": "execute_result"
    }
   ],
   "source": [
    "a[1]"
   ]
  },
  {
   "cell_type": "code",
   "execution_count": 87,
   "id": "eb60905d-6ec1-4f31-83b1-1191f1fb963f",
   "metadata": {},
   "outputs": [
    {
     "data": {
      "text/plain": [
       "array([4, 5, 6])"
      ]
     },
     "execution_count": 87,
     "metadata": {},
     "output_type": "execute_result"
    }
   ],
   "source": [
    "c[1]"
   ]
  },
  {
   "cell_type": "code",
   "execution_count": 88,
   "id": "b769fb38-972a-4315-9ffa-efed02fd44c4",
   "metadata": {},
   "outputs": [
    {
     "data": {
      "text/plain": [
       "array([2, 3])"
      ]
     },
     "execution_count": 88,
     "metadata": {},
     "output_type": "execute_result"
    }
   ],
   "source": [
    "a[1:]"
   ]
  },
  {
   "cell_type": "code",
   "execution_count": 89,
   "id": "787de014-ddd9-41f0-a1ed-d8d90ff86d61",
   "metadata": {},
   "outputs": [
    {
     "data": {
      "text/plain": [
       "array([1, 2])"
      ]
     },
     "execution_count": 89,
     "metadata": {},
     "output_type": "execute_result"
    }
   ],
   "source": [
    "a[:2]"
   ]
  },
  {
   "cell_type": "code",
   "execution_count": 91,
   "id": "7281a15e-e888-4797-9ae4-f4feaaf4dae1",
   "metadata": {},
   "outputs": [
    {
     "data": {
      "text/plain": [
       "3"
      ]
     },
     "execution_count": 91,
     "metadata": {},
     "output_type": "execute_result"
    }
   ],
   "source": [
    "# last element\n",
    "a[-1]"
   ]
  },
  {
   "cell_type": "code",
   "execution_count": 93,
   "id": "d82e59ef-4a60-4ff5-ae73-f1132b734e28",
   "metadata": {},
   "outputs": [
    {
     "data": {
      "text/plain": [
       "array([2, 3])"
      ]
     },
     "execution_count": 93,
     "metadata": {},
     "output_type": "execute_result"
    }
   ],
   "source": [
    "a[-2:]"
   ]
  },
  {
   "cell_type": "code",
   "execution_count": 95,
   "id": "f244f63a-fd08-4ed7-a688-869d9c7f783d",
   "metadata": {},
   "outputs": [
    {
     "data": {
      "text/plain": [
       "array([5, 6])"
      ]
     },
     "execution_count": 95,
     "metadata": {},
     "output_type": "execute_result"
    }
   ],
   "source": [
    "# ultimele doua elemente de pe linia intai\n",
    "c[1, -2:]"
   ]
  },
  {
   "cell_type": "code",
   "execution_count": 96,
   "id": "557fad54-6e8e-454a-8d89-e31613d72013",
   "metadata": {},
   "outputs": [
    {
     "data": {
      "text/plain": [
       "array([[1, 2, 3],\n",
       "       [4, 5, 6]])"
      ]
     },
     "execution_count": 96,
     "metadata": {},
     "output_type": "execute_result"
    }
   ],
   "source": [
    "c"
   ]
  },
  {
   "cell_type": "code",
   "execution_count": 97,
   "id": "e1670833-97f2-4e56-8dd7-ba8c135c8396",
   "metadata": {},
   "outputs": [
    {
     "data": {
      "text/plain": [
       "array([2, 5])"
      ]
     },
     "execution_count": 97,
     "metadata": {},
     "output_type": "execute_result"
    }
   ],
   "source": [
    "c[:,1]"
   ]
  },
  {
   "cell_type": "code",
   "execution_count": 98,
   "id": "20920357-627f-4c0d-b555-5b9049f35732",
   "metadata": {},
   "outputs": [
    {
     "data": {
      "text/plain": [
       "array([[2, 3],\n",
       "       [5, 6]])"
      ]
     },
     "execution_count": 98,
     "metadata": {},
     "output_type": "execute_result"
    }
   ],
   "source": [
    "c[:,1:]"
   ]
  },
  {
   "cell_type": "code",
   "execution_count": 99,
   "id": "ea6e199e-3361-43cb-abfc-114c0dc47b96",
   "metadata": {},
   "outputs": [
    {
     "data": {
      "text/plain": [
       "array([0., 0., 0., 0., 0., 0., 0., 0., 0., 0.])"
      ]
     },
     "execution_count": 99,
     "metadata": {},
     "output_type": "execute_result"
    }
   ],
   "source": [
    "np.zeros(10)"
   ]
  },
  {
   "cell_type": "code",
   "execution_count": 102,
   "id": "b690e027-f350-4249-89bb-56f9e6b64bec",
   "metadata": {},
   "outputs": [
    {
     "data": {
      "text/plain": [
       "array([[[0., 0., 0., 0.],\n",
       "        [0., 0., 0., 0.],\n",
       "        [0., 0., 0., 0.]],\n",
       "\n",
       "       [[0., 0., 0., 0.],\n",
       "        [0., 0., 0., 0.],\n",
       "        [0., 0., 0., 0.]]])"
      ]
     },
     "execution_count": 102,
     "metadata": {},
     "output_type": "execute_result"
    }
   ],
   "source": [
    "# 2 matrici de 3x4\n",
    "np.zeros((2,3,4))"
   ]
  },
  {
   "cell_type": "code",
   "execution_count": 103,
   "id": "65c5502b-7d4d-4935-be7f-a4219ec835fd",
   "metadata": {},
   "outputs": [
    {
     "data": {
      "text/plain": [
       "array([[0, 0, 0],\n",
       "       [0, 0, 0]])"
      ]
     },
     "execution_count": 103,
     "metadata": {},
     "output_type": "execute_result"
    }
   ],
   "source": [
    "np.zeros_like(c)"
   ]
  },
  {
   "cell_type": "code",
   "execution_count": 104,
   "id": "8216b70d-ef1c-4cad-bba1-6d517a8a7304",
   "metadata": {},
   "outputs": [
    {
     "data": {
      "text/plain": [
       "array([1., 1., 1., 1.])"
      ]
     },
     "execution_count": 104,
     "metadata": {},
     "output_type": "execute_result"
    }
   ],
   "source": [
    "np.ones(4)"
   ]
  },
  {
   "cell_type": "code",
   "execution_count": 105,
   "id": "dfc4fc65-8075-4b69-acac-75247f2e046b",
   "metadata": {},
   "outputs": [
    {
     "data": {
      "text/plain": [
       "array([[1, 1, 1],\n",
       "       [1, 1, 1]])"
      ]
     },
     "execution_count": 105,
     "metadata": {},
     "output_type": "execute_result"
    }
   ],
   "source": [
    "np.ones_like(c)"
   ]
  },
  {
   "cell_type": "code",
   "execution_count": 106,
   "id": "d565a5ef-39d4-4326-9d1c-ea385d8e9975",
   "metadata": {},
   "outputs": [
    {
     "data": {
      "text/plain": [
       "array([1.34595274e-311, 1.34597698e-311, 1.34597685e-311, 1.34595329e-311,\n",
       "       1.27587198e-152])"
      ]
     },
     "execution_count": 106,
     "metadata": {},
     "output_type": "execute_result"
    }
   ],
   "source": [
    "np.empty(5)"
   ]
  },
  {
   "cell_type": "code",
   "execution_count": 107,
   "id": "4c50d6b2-c749-47bf-a192-d796d39f281f",
   "metadata": {},
   "outputs": [
    {
     "data": {
      "text/plain": [
       "array([[6488161, 7209071, 6357092],\n",
       "       [3866675, 3801155, 5570652]])"
      ]
     },
     "execution_count": 107,
     "metadata": {},
     "output_type": "execute_result"
    }
   ],
   "source": [
    "np.empty_like(c)"
   ]
  },
  {
   "cell_type": "code",
   "execution_count": 111,
   "id": "75b9a204-79c0-4c88-8017-82fd9aff138b",
   "metadata": {},
   "outputs": [
    {
     "data": {
      "text/plain": [
       "array([30, 27, 24, 21, 18, 15, 12])"
      ]
     },
     "execution_count": 111,
     "metadata": {},
     "output_type": "execute_result"
    }
   ],
   "source": [
    "# range equivalent; limite + pas\n",
    "np.arange(30,10,-3)"
   ]
  },
  {
   "cell_type": "code",
   "execution_count": 112,
   "id": "8212192b-9f21-4764-a8be-e028cce1de7b",
   "metadata": {},
   "outputs": [
    {
     "data": {
      "text/plain": [
       "array([6, 6, 6, 6])"
      ]
     },
     "execution_count": 112,
     "metadata": {},
     "output_type": "execute_result"
    }
   ],
   "source": [
    "np.full(4, 6)"
   ]
  },
  {
   "cell_type": "code",
   "execution_count": 114,
   "id": "249b3661-84ae-49f6-af51-ace443f46584",
   "metadata": {},
   "outputs": [
    {
     "data": {
      "text/plain": [
       "array([[6, 1, 3],\n",
       "       [6, 1, 3],\n",
       "       [6, 1, 3],\n",
       "       [6, 1, 3]])"
      ]
     },
     "execution_count": 114,
     "metadata": {},
     "output_type": "execute_result"
    }
   ],
   "source": [
    "np.full((4,3), [6,1,3])"
   ]
  },
  {
   "cell_type": "code",
   "execution_count": 115,
   "id": "fe36ad2b-ac1b-4b48-a359-76221d99307e",
   "metadata": {},
   "outputs": [
    {
     "data": {
      "text/plain": [
       "array([[1000, 1000, 1000],\n",
       "       [1000, 1000, 1000]])"
      ]
     },
     "execution_count": 115,
     "metadata": {},
     "output_type": "execute_result"
    }
   ],
   "source": [
    "np.full_like(c,1000)"
   ]
  },
  {
   "cell_type": "code",
   "execution_count": 116,
   "id": "25d24f75-c161-4d64-aec5-c7b1a0f8c050",
   "metadata": {},
   "outputs": [
    {
     "data": {
      "text/plain": [
       "[[1, 2, 3], [4, 5]]"
      ]
     },
     "execution_count": 116,
     "metadata": {},
     "output_type": "execute_result"
    }
   ],
   "source": [
    "b"
   ]
  },
  {
   "cell_type": "code",
   "execution_count": 117,
   "id": "8369831a-7e89-467b-adb3-77cf71aadf7d",
   "metadata": {},
   "outputs": [
    {
     "data": {
      "text/plain": [
       "array([[1, 2, 3],\n",
       "       [4, 5, 6]])"
      ]
     },
     "execution_count": 117,
     "metadata": {},
     "output_type": "execute_result"
    }
   ],
   "source": [
    "c"
   ]
  },
  {
   "cell_type": "code",
   "execution_count": 118,
   "id": "6a06664d-6484-49de-ada1-d345443e8a77",
   "metadata": {},
   "outputs": [
    {
     "data": {
      "text/plain": [
       "array([1, 2, 3])"
      ]
     },
     "execution_count": 118,
     "metadata": {},
     "output_type": "execute_result"
    }
   ],
   "source": [
    "a"
   ]
  },
  {
   "cell_type": "code",
   "execution_count": 119,
   "id": "ec0e8377-e281-4c51-ab67-3d9ff5a21a05",
   "metadata": {},
   "outputs": [
    {
     "data": {
      "text/plain": [
       "array([6, 7, 8])"
      ]
     },
     "execution_count": 119,
     "metadata": {},
     "output_type": "execute_result"
    }
   ],
   "source": [
    "a+5"
   ]
  },
  {
   "cell_type": "code",
   "execution_count": 120,
   "id": "9917b85b-84ca-47b0-978a-fb4902003a9c",
   "metadata": {},
   "outputs": [
    {
     "data": {
      "text/plain": [
       "array([[  1,   8,  27],\n",
       "       [ 64, 125, 216]], dtype=int32)"
      ]
     },
     "execution_count": 120,
     "metadata": {},
     "output_type": "execute_result"
    }
   ],
   "source": [
    "c**3"
   ]
  },
  {
   "cell_type": "code",
   "execution_count": 121,
   "id": "e673ad90-ef0e-4809-815a-ae53b8ec8240",
   "metadata": {},
   "outputs": [],
   "source": [
    "a=np.array([1.3, 3.4])"
   ]
  },
  {
   "cell_type": "code",
   "execution_count": 122,
   "id": "f5f40b4d-2184-4b7f-a621-f5063e919d47",
   "metadata": {},
   "outputs": [
    {
     "data": {
      "text/plain": [
       "array([4.97929223e+05, 3.74926253e+26])"
      ]
     },
     "execution_count": 122,
     "metadata": {},
     "output_type": "execute_result"
    }
   ],
   "source": [
    "a**50"
   ]
  },
  {
   "cell_type": "code",
   "execution_count": 123,
   "id": "4a37c27c-78db-4473-a514-871266f9c770",
   "metadata": {},
   "outputs": [
    {
     "data": {
      "text/plain": [
       "2.35"
      ]
     },
     "execution_count": 123,
     "metadata": {},
     "output_type": "execute_result"
    }
   ],
   "source": [
    "np.mean(a)"
   ]
  },
  {
   "cell_type": "code",
   "execution_count": 126,
   "id": "51e33da9-9893-466e-842a-77c5c38ddc1d",
   "metadata": {},
   "outputs": [
    {
     "data": {
      "text/plain": [
       "3.5"
      ]
     },
     "execution_count": 126,
     "metadata": {},
     "output_type": "execute_result"
    }
   ],
   "source": [
    "# media tuturor elementelor matricei\n",
    "np.mean(c)"
   ]
  },
  {
   "cell_type": "code",
   "execution_count": 127,
   "id": "0e3e76e2-af5c-4050-94ba-31c16a63b3ec",
   "metadata": {},
   "outputs": [
    {
     "data": {
      "text/plain": [
       "array([2.5, 3.5, 4.5])"
      ]
     },
     "execution_count": 127,
     "metadata": {},
     "output_type": "execute_result"
    }
   ],
   "source": [
    "np.mean(c, axis=0)"
   ]
  },
  {
   "cell_type": "code",
   "execution_count": 128,
   "id": "59d7de9a-eaa9-47da-a434-0fddb5b009b2",
   "metadata": {},
   "outputs": [],
   "source": [
    "# np.median, np.sum"
   ]
  },
  {
   "cell_type": "code",
   "execution_count": null,
   "id": "15faf2e6-901e-42b8-ba00-d5f178876765",
   "metadata": {},
   "outputs": [],
   "source": []
  }
 ],
 "metadata": {
  "kernelspec": {
   "display_name": "Python 3 (ipykernel)",
   "language": "python",
   "name": "python3"
  },
  "language_info": {
   "codemirror_mode": {
    "name": "ipython",
    "version": 3
   },
   "file_extension": ".py",
   "mimetype": "text/x-python",
   "name": "python",
   "nbconvert_exporter": "python",
   "pygments_lexer": "ipython3",
   "version": "3.9.12"
  },
  "toc-autonumbering": true,
  "toc-showcode": false,
  "toc-showmarkdowntxt": true
 },
 "nbformat": 4,
 "nbformat_minor": 5
}
