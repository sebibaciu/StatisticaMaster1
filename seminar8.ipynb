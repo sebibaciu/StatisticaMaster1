{
 "cells": [
  {
   "cell_type": "markdown",
   "metadata": {},
   "source": [
    "# Teste de medie"
   ]
  },
  {
   "cell_type": "code",
   "execution_count": 14,
   "metadata": {},
   "outputs": [],
   "source": [
    "import numpy as np\n",
    "from scipy.stats import norm,t\n",
    "import matplotlib.pyplot as plt"
   ]
  },
  {
   "cell_type": "markdown",
   "metadata": {},
   "source": [
    "Avem un esantion de 36 de sticle de 3l. Se tie ca σ=0.18 si media esantionului e 2.92. Compania afirma ca media cantitatilor din sticle este mai mare sau egala cu 3. Presupunand ca populatia e normal distribuita, sa se verifice ipoteza companiei."
   ]
  },
  {
   "cell_type": "markdown",
   "metadata": {},
   "source": [
    "P1) $H_0: \\mu \\leq 3$, $H_a: \\mu > 3$"
   ]
  },
  {
   "cell_type": "markdown",
   "metadata": {},
   "source": [
    "P2) $z$ pop normal distribuita cu $\\sigma$ cunoscut"
   ]
  },
  {
   "cell_type": "code",
   "execution_count": 2,
   "metadata": {},
   "outputs": [],
   "source": [
    "# P3) \n",
    "alfa = 0.05"
   ]
  },
  {
   "cell_type": "code",
   "execution_count": 3,
   "metadata": {},
   "outputs": [
    {
     "data": {
      "text/plain": [
       "1.6448536269514722"
      ]
     },
     "execution_count": 3,
     "metadata": {},
     "output_type": "execute_result"
    }
   ],
   "source": [
    "# P4) regula de decizie\n",
    "z_alfa = norm.ppf(1-alfa)\n",
    "z_alfa"
   ]
  },
  {
   "cell_type": "code",
   "execution_count": 4,
   "metadata": {},
   "outputs": [],
   "source": [
    "def regula_la_dreapta(z, z_alfa):\n",
    "    if z>z_alfa:\n",
    "        return \"Se poate respinge H_0\"\n",
    "    else:\n",
    "        return \"NU se poate respinge H_0\""
   ]
  },
  {
   "cell_type": "code",
   "execution_count": 5,
   "metadata": {},
   "outputs": [
    {
     "data": {
      "text/plain": [
       "-2.666666666666669"
      ]
     },
     "execution_count": 5,
     "metadata": {},
     "output_type": "execute_result"
    }
   ],
   "source": [
    "# P5)\n",
    "x_barat=2.92\n",
    "sigma=0.18\n",
    "n=36\n",
    "sigma_x= sigma/np.sqrt(n)\n",
    "z= (x_barat-3)/sigma_x\n",
    "z\n"
   ]
  },
  {
   "cell_type": "code",
   "execution_count": 6,
   "metadata": {},
   "outputs": [
    {
     "data": {
      "text/plain": [
       "'NU se poate respinge H_0'"
      ]
     },
     "execution_count": 6,
     "metadata": {},
     "output_type": "execute_result"
    }
   ],
   "source": [
    "#P6)\n",
    "regula_la_dreapta(z, z_alfa)"
   ]
  },
  {
   "cell_type": "code",
   "execution_count": 7,
   "metadata": {},
   "outputs": [],
   "source": [
    "#P7) interpretarea in cuvinte: nu se poate afirma ca media cantitatilor din sticle e mai mare de 3l..."
   ]
  },
  {
   "cell_type": "markdown",
   "metadata": {},
   "source": [
    "> pentru varianta cu $p$"
   ]
  },
  {
   "cell_type": "code",
   "execution_count": 8,
   "metadata": {},
   "outputs": [],
   "source": [
    "p= 1- norm.cdf(-2.66)"
   ]
  },
  {
   "cell_type": "code",
   "execution_count": 9,
   "metadata": {},
   "outputs": [
    {
     "data": {
      "text/plain": [
       "0.9960929674251472"
      ]
     },
     "execution_count": 9,
     "metadata": {},
     "output_type": "execute_result"
    }
   ],
   "source": [
    "p"
   ]
  },
  {
   "cell_type": "code",
   "execution_count": null,
   "metadata": {},
   "outputs": [],
   "source": []
  },
  {
   "cell_type": "code",
   "execution_count": null,
   "metadata": {},
   "outputs": [],
   "source": []
  },
  {
   "cell_type": "markdown",
   "metadata": {},
   "source": [
    "In evaluarea unui aeroport se face un sondaj printer calatori in care acestia ii acorda o nota de la 0 la 10. Daca media punctajelor este mai mare de 7, aeroportul primeste categoria A. Pentru un aeroport din RO, 60 de respondenti au dat un scor mediu de 7.25 cu abatere medie patratica s=1.052. Ar trebui aeroportul sa primeasca categoria A?"
   ]
  },
  {
   "cell_type": "markdown",
   "metadata": {},
   "source": [
    "> varianta cu $p$  \n",
    "P1) $H_0: \\mu \\leq 7$, $H_a: \\mu > 7$"
   ]
  },
  {
   "cell_type": "markdown",
   "metadata": {},
   "source": [
    "P2) $t$ ($n\\geq 30$, varianta populatiei necunoscuta)"
   ]
  },
  {
   "cell_type": "code",
   "execution_count": 10,
   "metadata": {},
   "outputs": [],
   "source": [
    "#P3) nivel de semnificatie\n",
    "alfa=0.05"
   ]
  },
  {
   "cell_type": "code",
   "execution_count": 11,
   "metadata": {},
   "outputs": [],
   "source": [
    "#P4) Regula de decizie\n",
    "def regula_p(p,alfa):\n",
    "    if p<alfa:\n",
    "        return \"se respinge H_0\"\n",
    "    else:\n",
    "        return \"NU se respinge H_0\""
   ]
  },
  {
   "cell_type": "code",
   "execution_count": 12,
   "metadata": {},
   "outputs": [],
   "source": [
    "#P5) calcule\n",
    "x_barat=7.25\n",
    "s=1.052\n",
    "n=60\n",
    "mu_0=7"
   ]
  },
  {
   "cell_type": "code",
   "execution_count": 15,
   "metadata": {},
   "outputs": [
    {
     "data": {
      "text/plain": [
       "1.840771552379951"
      ]
     },
     "execution_count": 15,
     "metadata": {},
     "output_type": "execute_result"
    }
   ],
   "source": [
    "s_x=s/np.sqrt(n)\n",
    "tt = (x_barat-mu_0)/s_x\n",
    "tt"
   ]
  },
  {
   "cell_type": "code",
   "execution_count": null,
   "metadata": {},
   "outputs": [],
   "source": [
    "# valoarea lui p"
   ]
  },
  {
   "cell_type": "code",
   "execution_count": 16,
   "metadata": {},
   "outputs": [],
   "source": [
    "p = 1-  t.cdf(tt, n-1)"
   ]
  },
  {
   "cell_type": "code",
   "execution_count": 17,
   "metadata": {},
   "outputs": [
    {
     "data": {
      "text/plain": [
       "0.03534255422088828"
      ]
     },
     "execution_count": 17,
     "metadata": {},
     "output_type": "execute_result"
    }
   ],
   "source": [
    "p"
   ]
  },
  {
   "cell_type": "code",
   "execution_count": 18,
   "metadata": {},
   "outputs": [
    {
     "data": {
      "text/plain": [
       "'se respinge H_0'"
      ]
     },
     "execution_count": 18,
     "metadata": {},
     "output_type": "execute_result"
    }
   ],
   "source": [
    "#P6) \n",
    "regula_p(p, alfa)"
   ]
  },
  {
   "cell_type": "code",
   "execution_count": 19,
   "metadata": {},
   "outputs": [],
   "source": [
    "#P7) se poate acorda categoria A..."
   ]
  },
  {
   "cell_type": "markdown",
   "metadata": {},
   "source": [
    "Pentru a lua o decizie legata de productia de jucarii, un manager verifica 25 de magazine din 1000, cu privire la vanzarea unui produs. Decizia pe care o ia depinde daca se descopera ca se vand 40 buc./ luna sau nu in magazinele partenere. Sa gaseste ca in medie se vand in cele 25 de magazine 37.4 bucati cu $s=11.79$. Se stie ca populatia urmeaza o distributie normala. Descrieti testul potrivit si indicati o posibila concluzie. "
   ]
  },
  {
   "cell_type": "markdown",
   "metadata": {},
   "source": [
    "P1) $H_0: \\mu = 40 $, $H_a: \\mu \\neq 40$"
   ]
  },
  {
   "cell_type": "markdown",
   "metadata": {},
   "source": [
    "P2) $t$ (varianta populatiei necunoscuta, dar pop normal distribuita)"
   ]
  },
  {
   "cell_type": "code",
   "execution_count": 20,
   "metadata": {},
   "outputs": [],
   "source": [
    "#P3) nivelul de semnificatie\n",
    "alfa=0.01"
   ]
  },
  {
   "cell_type": "code",
   "execution_count": 21,
   "metadata": {},
   "outputs": [
    {
     "data": {
      "text/plain": [
       "-2.796939504772805"
      ]
     },
     "execution_count": 21,
     "metadata": {},
     "output_type": "execute_result"
    }
   ],
   "source": [
    "#P4) regula de decizie\n",
    "n= 25\n",
    "df = n-1\n",
    "t_alfa_2 = t.ppf(alfa/2, df)\n",
    "t_alfa_2"
   ]
  },
  {
   "cell_type": "code",
   "execution_count": 22,
   "metadata": {},
   "outputs": [],
   "source": [
    "def regula_bilaterala(t, t_alfa_2):\n",
    "    if (t<t_alfa_2) | (t>-t_alfa_2):\n",
    "        return \"se respinge H_0\"\n",
    "    else:\n",
    "        return \"NU se respinge H_0\"        "
   ]
  },
  {
   "cell_type": "code",
   "execution_count": 23,
   "metadata": {},
   "outputs": [
    {
     "data": {
      "text/plain": [
       "-1.1026293469041568"
      ]
     },
     "execution_count": 23,
     "metadata": {},
     "output_type": "execute_result"
    }
   ],
   "source": [
    "#P5) calcule\n",
    "x_barat = 37.4\n",
    "s = 11.79\n",
    "mu_0 = 40\n",
    "s_x = s/np.sqrt(n)\n",
    "t = (x_barat- mu_0)/ s_x\n",
    "t"
   ]
  },
  {
   "cell_type": "code",
   "execution_count": 24,
   "metadata": {},
   "outputs": [
    {
     "data": {
      "text/plain": [
       "'NU se respinge H_0'"
      ]
     },
     "execution_count": 24,
     "metadata": {},
     "output_type": "execute_result"
    }
   ],
   "source": [
    "#P6) \n",
    "regula_bilaterala(t, t_alfa_2)"
   ]
  },
  {
   "cell_type": "markdown",
   "metadata": {},
   "source": [
    "P7) nu se poate afirma ca media vanzarilor difera de 40. "
   ]
  },
  {
   "cell_type": "code",
   "execution_count": null,
   "metadata": {},
   "outputs": [],
   "source": []
  },
  {
   "cell_type": "code",
   "execution_count": null,
   "metadata": {},
   "outputs": [],
   "source": []
  },
  {
   "cell_type": "code",
   "execution_count": null,
   "metadata": {},
   "outputs": [],
   "source": []
  },
  {
   "cell_type": "code",
   "execution_count": null,
   "metadata": {},
   "outputs": [],
   "source": []
  },
  {
   "cell_type": "code",
   "execution_count": null,
   "metadata": {},
   "outputs": [],
   "source": []
  },
  {
   "cell_type": "markdown",
   "metadata": {},
   "source": [
    "Un producator de mingi de golf vrea sa verifice daca distanta medie acoperita de mingile produse este de 295m. Daca este mai mica scad vanzarile iar daca este mai mare intra in alta categorie de reglementari. Periodic se ia un esantion de 50 de mingi pentru monitorizare. Datele anterioare arata ca $\\sigma=12$. Daca un esantion are media 297.6, ar trebui sa se ia masuri pentru ajustarea productiei?"
   ]
  },
  {
   "cell_type": "markdown",
   "metadata": {},
   "source": [
    "Berea OareCare se vinde la sticle de 300ml. Legea cere ca daca pe eticheta e trecuta cantitatea de 300ml, atunci in sticla ar trebui sa fie cel putin 300ml. Se ia un esantion de 30 de sticle cu $\\overline x=299.5$ si $s=1.9ml$. Se poate afirma ca media cantitatilor din sticle satisface cerintele legale?"
   ]
  },
  {
   "cell_type": "markdown",
   "metadata": {},
   "source": [
    "Urmatorul esantion de marime 30 provine dintr-o populatie normal distribuita cu $\\sigma=0.5$. Se poate afirma ca media populatiei este mai mare decat 5? Dar daca nu s-ar cunoaste $\\sigma$?"
   ]
  },
  {
   "cell_type": "code",
   "execution_count": null,
   "metadata": {},
   "outputs": [],
   "source": []
  }
 ],
 "metadata": {
  "kernelspec": {
   "display_name": "Python 3 (ipykernel)",
   "language": "python",
   "name": "python3"
  },
  "language_info": {
   "codemirror_mode": {
    "name": "ipython",
    "version": 3
   },
   "file_extension": ".py",
   "mimetype": "text/x-python",
   "name": "python",
   "nbconvert_exporter": "python",
   "pygments_lexer": "ipython3",
   "version": "3.9.13"
  }
 },
 "nbformat": 4,
 "nbformat_minor": 4
}
