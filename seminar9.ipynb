{
 "cells": [
  {
   "cell_type": "markdown",
   "id": "87387986-6e06-4c8e-a2ad-45fb722677c5",
   "metadata": {},
   "source": [
    "# Teste de medie"
   ]
  },
  {
   "cell_type": "code",
   "execution_count": 23,
   "id": "38f5a292-319b-4d82-8df1-86e752b1954f",
   "metadata": {},
   "outputs": [],
   "source": [
    "import numpy as np\n",
    "from scipy.stats import t, chi2\n",
    "import matplotlib.pyplot as plt"
   ]
  },
  {
   "cell_type": "markdown",
   "id": "8d5e3925-41d4-46e7-857b-b289b52b528e",
   "metadata": {},
   "source": [
    "Urmatoarele date reprezinta rezultate raportate de doi algoritmi de optimizare pe un set de 10 functii de test.\n",
    "\n",
    "Presupunand ca populatiile sunt normal distribuite sa se verifice daca diferentele dintre rezultate sunt semnificative ($\\alpha=0.05$)"
   ]
  },
  {
   "cell_type": "code",
   "execution_count": 10,
   "id": "3ce112d3-ad2f-4a3c-8a4c-09fba2dcaa16",
   "metadata": {},
   "outputs": [],
   "source": [
    "A1=np.array([0.1,0.05, 0.2, 0.001, 0.7, 0.3, 0.05, 0.8, 0.6, 0.08])\n",
    "A2=np.array([0.15, 0.03, 0.3, 0.002, 0.75, 0.1, 0.01, 0.75, 0.7, 0.03])"
   ]
  },
  {
   "cell_type": "code",
   "execution_count": 11,
   "id": "da133baf-f593-4bec-b8c6-a6a68ec86ac6",
   "metadata": {},
   "outputs": [
    {
     "data": {
      "text/plain": [
       "(array([0.1  , 0.05 , 0.2  , 0.001, 0.7  , 0.3  , 0.05 , 0.8  , 0.6  ,\n",
       "        0.08 ]),\n",
       " array([0.15 , 0.03 , 0.3  , 0.002, 0.75 , 0.1  , 0.01 , 0.75 , 0.7  ,\n",
       "        0.03 ]))"
      ]
     },
     "execution_count": 11,
     "metadata": {},
     "output_type": "execute_result"
    }
   ],
   "source": [
    "A1, A2"
   ]
  },
  {
   "cell_type": "markdown",
   "id": "cc887c22-cd49-4026-8f24-b5d965e25703",
   "metadata": {},
   "source": [
    "p1) $H_0: \\mu_d=0$ $H_a: \\mu_d \\neq 0$"
   ]
  },
  {
   "cell_type": "markdown",
   "id": "1d652019-0cdb-4628-a094-d322d782a22e",
   "metadata": {},
   "source": [
    "p2) statistica $t$"
   ]
  },
  {
   "cell_type": "code",
   "execution_count": 4,
   "id": "62204400-d993-4d42-bcc6-69e78fecbdc1",
   "metadata": {},
   "outputs": [],
   "source": [
    "# p3) nivelul de semnificatie\n",
    "alfa=0.05"
   ]
  },
  {
   "cell_type": "code",
   "execution_count": 6,
   "id": "0cc0d69c-9fc0-4af5-b760-2dcd9e724fb1",
   "metadata": {},
   "outputs": [
    {
     "data": {
      "text/plain": [
       "-2.262157162740992"
      ]
     },
     "execution_count": 6,
     "metadata": {},
     "output_type": "execute_result"
    }
   ],
   "source": [
    "# p4) regula de decizie\n",
    "n=10\n",
    "df=n-1\n",
    "t_alfa_2 = t.ppf(alfa/2, df)\n",
    "t_alfa_2"
   ]
  },
  {
   "cell_type": "code",
   "execution_count": 7,
   "id": "9745a508-d99f-4698-a05e-1a5c53217b6a",
   "metadata": {},
   "outputs": [],
   "source": [
    "def regula_bilateral(t, t_alfa_2):\n",
    "    if (t<t_alfa_2) | (t>-t_alfa_2):\n",
    "        return \"Se respinge H_0\"\n",
    "    else:\n",
    "        return \"NU se respinge H_0\""
   ]
  },
  {
   "cell_type": "code",
   "execution_count": 8,
   "id": "ecf3d57c-30da-4680-bb7a-7387fbff29de",
   "metadata": {},
   "outputs": [],
   "source": [
    "# p5) calcule"
   ]
  },
  {
   "cell_type": "code",
   "execution_count": 12,
   "id": "7a2fe099-7534-4913-92a4-99405792fea4",
   "metadata": {},
   "outputs": [],
   "source": [
    "diferente = A1 - A2"
   ]
  },
  {
   "cell_type": "code",
   "execution_count": 13,
   "id": "bcb6714d-9623-44f7-9d9d-57e968d17003",
   "metadata": {},
   "outputs": [
    {
     "data": {
      "text/plain": [
       "array([-0.05 ,  0.02 , -0.1  , -0.001, -0.05 ,  0.2  ,  0.04 ,  0.05 ,\n",
       "       -0.1  ,  0.05 ])"
      ]
     },
     "execution_count": 13,
     "metadata": {},
     "output_type": "execute_result"
    }
   ],
   "source": [
    "diferente"
   ]
  },
  {
   "cell_type": "code",
   "execution_count": 14,
   "id": "54c94772-ca5a-4293-a90d-cd4b317c0577",
   "metadata": {},
   "outputs": [],
   "source": [
    "d_barat = np.mean(diferente)"
   ]
  },
  {
   "cell_type": "code",
   "execution_count": 15,
   "id": "efcfce19-2137-456b-8ec7-3da22a65e981",
   "metadata": {},
   "outputs": [
    {
     "data": {
      "text/plain": [
       "0.005900000000000007"
      ]
     },
     "execution_count": 15,
     "metadata": {},
     "output_type": "execute_result"
    }
   ],
   "source": [
    "d_barat"
   ]
  },
  {
   "cell_type": "code",
   "execution_count": 16,
   "id": "f75c881d-f437-4483-9a8a-7deb5e7854fe",
   "metadata": {},
   "outputs": [],
   "source": [
    "s = np.std(diferente, ddof=1)"
   ]
  },
  {
   "cell_type": "code",
   "execution_count": 17,
   "id": "4cfe6ea3-ab35-4d55-83d0-53aba63b2415",
   "metadata": {},
   "outputs": [
    {
     "data": {
      "text/plain": [
       "0.08922686441500302"
      ]
     },
     "execution_count": 17,
     "metadata": {},
     "output_type": "execute_result"
    }
   ],
   "source": [
    "s"
   ]
  },
  {
   "cell_type": "code",
   "execution_count": 18,
   "id": "625c23fd-221c-4908-a293-7d2a18929482",
   "metadata": {},
   "outputs": [],
   "source": [
    "eroare_standard = s/ np.sqrt(n)"
   ]
  },
  {
   "cell_type": "code",
   "execution_count": 19,
   "id": "7bee22c0-5a6f-4e25-adff-4fc62966fe1e",
   "metadata": {},
   "outputs": [
    {
     "data": {
      "text/plain": [
       "0.028216012002643696"
      ]
     },
     "execution_count": 19,
     "metadata": {},
     "output_type": "execute_result"
    }
   ],
   "source": [
    "eroare_standard"
   ]
  },
  {
   "cell_type": "code",
   "execution_count": 20,
   "id": "cedb8811-4d93-4c98-b524-1f3425987c42",
   "metadata": {},
   "outputs": [
    {
     "data": {
      "text/plain": [
       "0.2091011302180906"
      ]
     },
     "execution_count": 20,
     "metadata": {},
     "output_type": "execute_result"
    }
   ],
   "source": [
    "tt = (d_barat -0)/eroare_standard\n",
    "tt"
   ]
  },
  {
   "cell_type": "code",
   "execution_count": 21,
   "id": "6638a68d-d387-4897-af90-4684386b8310",
   "metadata": {},
   "outputs": [
    {
     "data": {
      "text/plain": [
       "'NU se respinge H_0'"
      ]
     },
     "execution_count": 21,
     "metadata": {},
     "output_type": "execute_result"
    }
   ],
   "source": [
    "# p6) aplicare regula\n",
    "regula_bilateral(tt, t_alfa_2)"
   ]
  },
  {
   "cell_type": "code",
   "execution_count": null,
   "id": "7ce79088-ad83-4a92-baf6-044d86d36f49",
   "metadata": {},
   "outputs": [],
   "source": [
    "# p7) nu se poate afirma ca este diferenta semnificativa intre rezultate. "
   ]
  },
  {
   "cell_type": "markdown",
   "id": "930cf612-a5a6-4e0a-a6d2-e044f39873c8",
   "metadata": {},
   "source": [
    "# Teste de varianta"
   ]
  },
  {
   "cell_type": "markdown",
   "id": "00f8d187-6786-468b-8e47-663e248c8ad1",
   "metadata": {},
   "source": [
    "Pentru a verifica afirmatia unui manager ca varianta cantitatii de lichid imbuteliat in sticle de 1l este mai mica de **1cm$^3$** se ia un esantion de 25 de sticle si se masoara volumul de lichid. Se constata ca $s^2=0.6333$. Sprijina datele afirmatia managerului? (pp. ca populatia e normal distribuita)."
   ]
  },
  {
   "cell_type": "markdown",
   "id": "972e4d13-e544-4142-874e-67d61e276b58",
   "metadata": {},
   "source": [
    "P1) $H_0: \\sigma^2 \\ge 1$ , $H_a \\sigma^2 <1$"
   ]
  },
  {
   "cell_type": "markdown",
   "id": "bbd4ea88-2505-4a15-a185-6272b620abc0",
   "metadata": {},
   "source": [
    "P2) $\\chi^2$"
   ]
  },
  {
   "cell_type": "code",
   "execution_count": 22,
   "id": "05685b0d-599d-477b-8ec6-223139531220",
   "metadata": {},
   "outputs": [],
   "source": [
    "# p3) nivel de semnificatie\n",
    "alfa = 0.05"
   ]
  },
  {
   "cell_type": "code",
   "execution_count": 24,
   "id": "5cba696a-e376-46b3-af3c-4dd4182c0fbe",
   "metadata": {},
   "outputs": [],
   "source": [
    "# p4) regula de decizie\n",
    "n=25\n",
    "df=n-1"
   ]
  },
  {
   "cell_type": "code",
   "execution_count": 27,
   "id": "7f19fd3b-8282-451e-8632-8cb257ccd77f",
   "metadata": {},
   "outputs": [
    {
     "data": {
      "text/plain": [
       "<matplotlib.legend.Legend at 0x287d3685850>"
      ]
     },
     "execution_count": 27,
     "metadata": {},
     "output_type": "execute_result"
    },
    {
     "data": {
      "image/png": "[encoded data removed]",
      "text/plain": [
       "<Figure size 640x480 with 1 Axes>"
      ]
     },
     "metadata": {},
     "output_type": "display_data"
    }
   ],
   "source": [
    "x = np.linspace(0, 100,100)\n",
    "plt.plot(x, chi2.pdf(x,df), label=f'df={df}')\n",
    "plt.plot(x, chi2.pdf(x,5), label=f'df=5')\n",
    "plt.plot(x, chi2.pdf(x,50), label=f'df=50')\n",
    "plt.legend()"
   ]
  },
  {
   "cell_type": "code",
   "execution_count": 28,
   "id": "b0784558-04a4-4c26-bac2-47c55b3f89e4",
   "metadata": {},
   "outputs": [
    {
     "data": {
      "text/plain": [
       "13.848425027170224"
      ]
     },
     "execution_count": 28,
     "metadata": {},
     "output_type": "execute_result"
    }
   ],
   "source": [
    "chi2_alfa = chi2.ppf(alfa, df)\n",
    "chi2_alfa"
   ]
  },
  {
   "cell_type": "code",
   "execution_count": 32,
   "id": "d9fb5016-6092-41d2-9a5a-b1f2297d3b9e",
   "metadata": {},
   "outputs": [],
   "source": [
    "def regula_unilaterala_stanga(statistica, chi2_alfa):\n",
    "    if statistica< chi2_alfa:\n",
    "        return \"Se respinge H_0\"\n",
    "    else:\n",
    "        return \"NU se respinge H_0\"       "
   ]
  },
  {
   "cell_type": "code",
   "execution_count": 30,
   "id": "d3aee6ac-13f1-42f7-bbd2-40872ec724d7",
   "metadata": {},
   "outputs": [
    {
     "data": {
      "text/plain": [
       "15.1992"
      ]
     },
     "execution_count": 30,
     "metadata": {},
     "output_type": "execute_result"
    }
   ],
   "source": [
    "#p5) calcule\n",
    "s2 = 0.6333\n",
    "statistica = (n-1) * s2 /1\n",
    "statistica"
   ]
  },
  {
   "cell_type": "code",
   "execution_count": 33,
   "id": "e4c071b8-560a-4fa7-9a97-ab1346056c41",
   "metadata": {},
   "outputs": [
    {
     "data": {
      "text/plain": [
       "'NU se respinge H_0'"
      ]
     },
     "execution_count": 33,
     "metadata": {},
     "output_type": "execute_result"
    }
   ],
   "source": [
    "#p6) verificare regula\n",
    "regula_unilaterala_stanga(statistica, chi2_alfa)"
   ]
  },
  {
   "cell_type": "code",
   "execution_count": null,
   "id": "4bd4db21-74ad-4697-8906-0fffa4cc1830",
   "metadata": {},
   "outputs": [],
   "source": [
    "# p7) datele nu sprijina afirmatia managerului"
   ]
  },
  {
   "cell_type": "markdown",
   "id": "16b3419e-2293-4e82-98ec-22453cce73c4",
   "metadata": {},
   "source": [
    "# De rezolvat:"
   ]
  },
  {
   "cell_type": "markdown",
   "id": "6c8a5aae-759b-46dc-a5b1-ebd4093e0bdf",
   "metadata": {},
   "source": [
    "S-a ales un esantion aleator de 100 de observatii dintr-o populatie normal distribuita, cu $s^2=220$. Putem afirma la un nivel de semnificatie de 1% ca varianta populatiei este diferita de 300?"
   ]
  },
  {
   "cell_type": "markdown",
   "id": "3c8c80f4-e713-46f6-b1dd-3144a4843011",
   "metadata": {},
   "source": [
    "Varianta unui esantion de 50 de observatii dintr-o populatie normal distribuita este de $s^2=80$. Putem afirma cu 1% nivel de semnificatie ca $\\sigma^2$ este mai mic de 100?"
   ]
  },
  {
   "cell_type": "code",
   "execution_count": null,
   "id": "1b6aa999-8c24-4337-8c0e-8cc13319ce3f",
   "metadata": {},
   "outputs": [],
   "source": []
  }
 ],
 "metadata": {
  "kernelspec": {
   "display_name": "Python 3 (ipykernel)",
   "language": "python",
   "name": "python3"
  },
  "language_info": {
   "codemirror_mode": {
    "name": "ipython",
    "version": 3
   },
   "file_extension": ".py",
   "mimetype": "text/x-python",
   "name": "python",
   "nbconvert_exporter": "python",
   "pygments_lexer": "ipython3",
   "version": "3.9.13"
  }
 },
 "nbformat": 4,
 "nbformat_minor": 5
}
