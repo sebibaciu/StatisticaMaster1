{
 "cells": [
  {
   "cell_type": "code",
   "execution_count": 205,
   "metadata": {},
   "outputs": [],
   "source": [
    "from math import sqrt\n",
    "import numpy as np\n",
    "import matplotlib.pyplot as plt\n",
    "import scipy.stats as stats\n",
    "from scipy.stats import poisson\n",
    "from scipy.stats import uniform\n",
    "import statistics"
   ]
  },
  {
   "cell_type": "markdown",
   "metadata": {},
   "source": []
  },
  {
   "cell_type": "markdown",
   "metadata": {},
   "source": [
    "Salariul mediu orar al fermierilor din *** este de 13.5 lei. Se stie ca σ=2.9 lei. Calculati si interpretati eroarea standard a mediei pentru un esantion de marime 30."
   ]
  },
  {
   "cell_type": "code",
   "execution_count": 141,
   "metadata": {},
   "outputs": [],
   "source": [
    "def eroarea_standard_a_mediei(abat_medie_patratica, n):\n",
    "    return abat_medie_patratica/sqrt(n)"
   ]
  },
  {
   "cell_type": "code",
   "execution_count": 36,
   "metadata": {},
   "outputs": [
    {
     "data": {
      "text/plain": [
       "0.5294651389216606"
      ]
     },
     "execution_count": 36,
     "metadata": {},
     "output_type": "execute_result"
    }
   ],
   "source": [
    "eroarea_standard_a_mediei(2.9, 30)"
   ]
  },
  {
   "cell_type": "markdown",
   "metadata": {},
   "source": [
    "Valoarea mică a erorii standard a mediei pentru eșantionul de mărime 30 presupune o distribuție teoretică mai uniformă."
   ]
  },
  {
   "cell_type": "markdown",
   "metadata": {},
   "source": []
  },
  {
   "cell_type": "markdown",
   "metadata": {},
   "source": [
    "Presupunem ca avem un esantion care contine randamentul pe ultimele 30 de luni a unei companii X. Media acestor valori este de 2% si abaterea medie patratica a esantionului este de 20%. Calculati si interpretati eroarea standard a mediei esantionului.\n",
    "\n",
    "Sa presupunem ca avem un esantion de 200 de masuratori, in aceleasi conditii. Care este eroarea standard?\n"
   ]
  },
  {
   "cell_type": "code",
   "execution_count": 38,
   "metadata": {},
   "outputs": [
    {
     "data": {
      "text/plain": [
       "3.6514837167011076"
      ]
     },
     "execution_count": 38,
     "metadata": {},
     "output_type": "execute_result"
    }
   ],
   "source": [
    "eroarea_standard_a_mediei(20, 30)"
   ]
  },
  {
   "cell_type": "code",
   "execution_count": 39,
   "metadata": {},
   "outputs": [
    {
     "data": {
      "text/plain": [
       "1.414213562373095"
      ]
     },
     "execution_count": 39,
     "metadata": {},
     "output_type": "execute_result"
    }
   ],
   "source": [
    "eroarea_standard_a_mediei(20, 200)"
   ]
  },
  {
   "cell_type": "markdown",
   "metadata": {},
   "source": [
    "Așadar, cu cât mărimea eșantionului este mai mare, cu atât eroarea este mai mică."
   ]
  },
  {
   "cell_type": "markdown",
   "metadata": {},
   "source": []
  },
  {
   "cell_type": "markdown",
   "metadata": {},
   "source": [
    "O populatie are media 100 si abaterea medie patratica de 50. Se alege un esantion simplu de 100 de elemente.\n",
    "\n",
    "a) Care e probabilitatea ca media esantionului sa fie la ±5 de media populatiei?  \n",
    "b) Care e probabilitatea ca media esantionului sa fie la ±10 de media populatiei?  \n",
    "c) Dar daca esantionul este de 400 de elemente? Care e probabilitatea ca media esantionului sa fie la distanta de ±5 de media populatiei?\n"
   ]
  },
  {
   "cell_type": "markdown",
   "metadata": {},
   "source": [
    "**a)**"
   ]
  },
  {
   "cell_type": "code",
   "execution_count": 11,
   "metadata": {},
   "outputs": [],
   "source": [
    "er = eroarea_standard_a_mediei(50, 100)"
   ]
  },
  {
   "cell_type": "code",
   "execution_count": 12,
   "metadata": {},
   "outputs": [
    {
     "name": "stdout",
     "output_type": "stream",
     "text": [
      "5.0\n"
     ]
    }
   ],
   "source": [
    "print(er)"
   ]
  },
  {
   "cell_type": "code",
   "execution_count": 13,
   "metadata": {},
   "outputs": [],
   "source": [
    "def distr_normala_oarecare1(mu, e, er):\n",
    "        return (mu - e - mu)/er"
   ]
  },
  {
   "cell_type": "code",
   "execution_count": 15,
   "metadata": {},
   "outputs": [],
   "source": [
    "z95 = distr_normala_oarecare1(100, 5, er)"
   ]
  },
  {
   "cell_type": "code",
   "execution_count": null,
   "metadata": {},
   "outputs": [
    {
     "name": "stdout",
     "output_type": "stream",
     "text": [
      "-1.0\n"
     ]
    }
   ],
   "source": [
    "print(z95)"
   ]
  },
  {
   "cell_type": "code",
   "execution_count": 17,
   "metadata": {},
   "outputs": [],
   "source": [
    "def distr_normala_oarecare2(mu, e, er):\n",
    "        return (mu + e - mu)/er"
   ]
  },
  {
   "cell_type": "code",
   "execution_count": 20,
   "metadata": {},
   "outputs": [],
   "source": [
    "z105 = distr_normala_oarecare2(100, 5, er)"
   ]
  },
  {
   "cell_type": "code",
   "execution_count": 21,
   "metadata": {},
   "outputs": [
    {
     "name": "stdout",
     "output_type": "stream",
     "text": [
      "1.0\n"
     ]
    }
   ],
   "source": [
    "print(z105)"
   ]
  },
  {
   "cell_type": "markdown",
   "metadata": {},
   "source": [
    "Din tabel: $P(z<1)-P(z<-1)=0.8413-0.1587=0.6826$  \n",
    "Probabilitatea ca media eșantionului să fie la ±5 de media populației este de 68.26%. "
   ]
  },
  {
   "cell_type": "markdown",
   "metadata": {},
   "source": []
  },
  {
   "cell_type": "markdown",
   "metadata": {},
   "source": [
    "**b)**"
   ]
  },
  {
   "cell_type": "code",
   "execution_count": 22,
   "metadata": {},
   "outputs": [],
   "source": [
    "z90 = distr_normala_oarecare1(100, 10, er)"
   ]
  },
  {
   "cell_type": "code",
   "execution_count": 23,
   "metadata": {},
   "outputs": [
    {
     "name": "stdout",
     "output_type": "stream",
     "text": [
      "-2.0\n"
     ]
    }
   ],
   "source": [
    "print(z90)"
   ]
  },
  {
   "cell_type": "code",
   "execution_count": 25,
   "metadata": {},
   "outputs": [],
   "source": [
    "z110 = distr_normala_oarecare2(100, 10, er)"
   ]
  },
  {
   "cell_type": "code",
   "execution_count": 26,
   "metadata": {},
   "outputs": [
    {
     "name": "stdout",
     "output_type": "stream",
     "text": [
      "2.0\n"
     ]
    }
   ],
   "source": [
    "print(z110)"
   ]
  },
  {
   "cell_type": "markdown",
   "metadata": {},
   "source": [
    "Din tabel: $P(z<2)-P(z<-2)=0.0228-0.9772=0.9544$  \n",
    "Probabilitatea ca media eșantionului să fie la ±10 de media populației este de 95.44%. "
   ]
  },
  {
   "cell_type": "markdown",
   "metadata": {},
   "source": []
  },
  {
   "cell_type": "markdown",
   "metadata": {},
   "source": [
    "**c)**"
   ]
  },
  {
   "cell_type": "code",
   "execution_count": 27,
   "metadata": {},
   "outputs": [],
   "source": [
    "er2 = eroarea_standard_a_mediei(50, 400)"
   ]
  },
  {
   "cell_type": "code",
   "execution_count": 28,
   "metadata": {},
   "outputs": [
    {
     "name": "stdout",
     "output_type": "stream",
     "text": [
      "2.5\n"
     ]
    }
   ],
   "source": [
    "print(er2)"
   ]
  },
  {
   "cell_type": "code",
   "execution_count": 30,
   "metadata": {},
   "outputs": [],
   "source": [
    "z95 = distr_normala_oarecare1(100, 5, er2)"
   ]
  },
  {
   "cell_type": "code",
   "execution_count": 31,
   "metadata": {},
   "outputs": [
    {
     "name": "stdout",
     "output_type": "stream",
     "text": [
      "-2.0\n"
     ]
    }
   ],
   "source": [
    "print(z95)"
   ]
  },
  {
   "cell_type": "code",
   "execution_count": 32,
   "metadata": {},
   "outputs": [],
   "source": [
    "z105 = distr_normala_oarecare2(100, 5, er2)"
   ]
  },
  {
   "cell_type": "code",
   "execution_count": 33,
   "metadata": {},
   "outputs": [
    {
     "name": "stdout",
     "output_type": "stream",
     "text": [
      "2.0\n"
     ]
    }
   ],
   "source": [
    "print(z105)"
   ]
  },
  {
   "cell_type": "markdown",
   "metadata": {},
   "source": [
    "Din tabel: $P(z<2)-P(z<-2)=0.0228-0.9772=0.9544$  \n",
    "Probabilitatea ca media eșantionului să fie la ±10 de media populației este de 95.44%."
   ]
  },
  {
   "cell_type": "markdown",
   "metadata": {},
   "source": []
  },
  {
   "cell_type": "markdown",
   "metadata": {},
   "source": [
    "Sa se simuleze teorema limita centrala pornind de la o populatie care urmeaza o distributie:\n",
    "\n",
    "3. Poisson, cu $\\lambda=3$\n",
    "1. uniforma, cu valori intre 5 si 100\n",
    "\n",
    "    \n",
    "Folositi pentru  marimea esantioanelor valorile $n= 10,20,30, 50, 1000$."
   ]
  },
  {
   "cell_type": "markdown",
   "metadata": {},
   "source": [
    "Pasi:\n",
    "    \n",
    "1. Stabiliti care este media $\\mu$ si abaterea medie patratica a populatiei $\\sigma$\n",
    "2. Reprezentati grafic distributia populatiei (pmf) si a unui esantion aleator din populatie;\n",
    "3. Extrageti esantioane aleatoare (multe!) de marime $n$ din populatie; \n",
    "4. Calculati media pentru fiecare esantion\n",
    "5. Reprezentati distributia mediilor calculate la punctul anterior\n",
    "6. Calculati media mediilor de la pct. 4. Comparati cu media populatie.\n",
    "7. Calculati abaterea medie patratica a mediilor de la punctul 4. Comparati cu $\\sigma/\\sqrt(n)$\n",
    "8. Reprezentati valoarea mediilor de la punctul 6 ca functie de $n$, $n= 10,20,...,1000$.\n",
    "    \n",
    "    "
   ]
  },
  {
   "cell_type": "markdown",
   "metadata": {},
   "source": [
    "**Rezolvare:**"
   ]
  },
  {
   "cell_type": "markdown",
   "metadata": {},
   "source": [
    "In a Poisson$(\\lambda)$ distribution, $\\lambda$ represents both, the expected value and variance.  \n",
    "Expected value: $E(X)=\\lambda$  \n",
    "Varianța: $D(X)=\\lambda$"
   ]
  },
  {
   "cell_type": "markdown",
   "metadata": {},
   "source": [
    "Dar:  \n",
    "Expected value: $E(X)=\\mu=\\lambda=3$  \n",
    "Varianța: $D(X)=\\sigma^{2}=\\lambda=3$"
   ]
  },
  {
   "cell_type": "code",
   "execution_count": 5,
   "metadata": {},
   "outputs": [],
   "source": [
    "lambda_variable = 3"
   ]
  },
  {
   "cell_type": "code",
   "execution_count": 6,
   "metadata": {},
   "outputs": [],
   "source": [
    "media = lambda_variable\n",
    "ab_medie_patratica = lambda_variable"
   ]
  },
  {
   "cell_type": "code",
   "execution_count": 7,
   "metadata": {},
   "outputs": [
    {
     "name": "stdout",
     "output_type": "stream",
     "text": [
      "Media populației este 3, iar abaterea medie pătratică este 3\n"
     ]
    }
   ],
   "source": [
    "print('Media populației este ' + str(media) + ', iar abaterea medie pătratică este ' + str(ab_medie_patratica))"
   ]
  },
  {
   "cell_type": "code",
   "execution_count": 184,
   "metadata": {},
   "outputs": [],
   "source": [
    "x = poisson.rvs(mu=3, size=1000)"
   ]
  },
  {
   "cell_type": "code",
   "execution_count": 203,
   "metadata": {},
   "outputs": [
    {
     "data": {
      "text/plain": [
       "Text(0.5, 1.0, 'Distribuția populației (pmf)')"
      ]
     },
     "execution_count": 203,
     "metadata": {},
     "output_type": "execute_result"
    },
    {
     "data": {
      "image/png": "[encoded data removed]",
      "text/plain": [
       "<Figure size 640x480 with 1 Axes>"
      ]
     },
     "metadata": {},
     "output_type": "display_data"
    }
   ],
   "source": [
    "plt.hist(x, edgecolor='black')\n",
    "plt.title(f'Distribuția populației (pmf)')"
   ]
  },
  {
   "cell_type": "code",
   "execution_count": 197,
   "metadata": {},
   "outputs": [
    {
     "name": "stdout",
     "output_type": "stream",
     "text": [
      "Dimentiune eșantion 0:  (10,)\n",
      "Dimentiune eșantion 1:  (20,)\n",
      "Dimentiune eșantion 2:  (30,)\n",
      "Dimentiune eșantion 3:  (50,)\n",
      "Dimentiune eșantion 4:  (1000,)\n",
      "[70.47351715306455, 49.28925231210705, 50.76450764574036, 41.70877816464875, 51.97725126833232]\n"
     ]
    }
   ],
   "source": [
    "n = [10,20,30,50,1000]\n",
    "means = []\n",
    "for j in range(len(n)):\n",
    "    y = np.random.uniform(5,100,n[j])\n",
    "    print('Dimentiune eșantion {}: '.format(j), y.shape)\n",
    "    means.append(np.mean(y))\n",
    "print(means)"
   ]
  },
  {
   "cell_type": "code",
   "execution_count": 213,
   "metadata": {},
   "outputs": [],
   "source": [
    "# plt.hist(means, bins=80)"
   ]
  },
  {
   "cell_type": "code",
   "execution_count": 199,
   "metadata": {},
   "outputs": [],
   "source": [
    "total_mean = np.mean(means)"
   ]
  },
  {
   "cell_type": "code",
   "execution_count": 200,
   "metadata": {},
   "outputs": [
    {
     "name": "stdout",
     "output_type": "stream",
     "text": [
      "52.84266130877861\n"
     ]
    }
   ],
   "source": [
    "print(total_mean)"
   ]
  },
  {
   "cell_type": "code",
   "execution_count": 201,
   "metadata": {},
   "outputs": [
    {
     "name": "stdout",
     "output_type": "stream",
     "text": [
      "10.636080156148477\n",
      "Abaterea medie pătratică > eroarea standard a mediei ?\n",
      "Cazul 0: True\n",
      "Cazul 1: True\n",
      "Cazul 2: True\n",
      "Cazul 3: True\n",
      "Cazul 4: True\n"
     ]
    }
   ],
   "source": [
    "abaterea_medie_patratica = stdev(means)\n",
    "print(abaterea_medie_patratica)\n",
    "print('Abaterea medie pătratică > eroarea standard a mediei ?')\n",
    "for j in range(len(n)):\n",
    "    sigma_X = eroarea_standard_a_mediei(abaterea_medie_patratica, n[j])\n",
    "    print('Cazul {}:'.format(j), abaterea_medie_patratica > sigma_X)"
   ]
  },
  {
   "cell_type": "code",
   "execution_count": 171,
   "metadata": {},
   "outputs": [],
   "source": [
    "n = [i for i in range(10,1000+1,10)]"
   ]
  },
  {
   "cell_type": "code",
   "execution_count": 222,
   "metadata": {},
   "outputs": [
    {
     "data": {
      "text/plain": [
       "[<matplotlib.lines.Line2D at 0x19cc19223d0>]"
      ]
     },
     "execution_count": 222,
     "metadata": {},
     "output_type": "execute_result"
    },
    {
     "data": {
      "image/png": "[encoded data removed]",
      "text/plain": [
       "<Figure size 640x480 with 1 Axes>"
      ]
     },
     "metadata": {},
     "output_type": "display_data"
    }
   ],
   "source": [
    "snd = stats.norm(total_mean, abaterea_medie_patratica)\n",
    "a = np.linspace(10, 1000, 1000)\n",
    "plt.plot(a, snd.pdf(a))"
   ]
  },
  {
   "cell_type": "code",
   "execution_count": null,
   "metadata": {},
   "outputs": [],
   "source": []
  }
 ],
 "metadata": {
  "kernelspec": {
   "display_name": "Python 3 (ipykernel)",
   "language": "python",
   "name": "python3"
  },
  "language_info": {
   "codemirror_mode": {
    "name": "ipython",
    "version": 3
   },
   "file_extension": ".py",
   "mimetype": "text/x-python",
   "name": "python",
   "nbconvert_exporter": "python",
   "pygments_lexer": "ipython3",
   "version": "3.9.13"
  }
 },
 "nbformat": 4,
 "nbformat_minor": 4
}
